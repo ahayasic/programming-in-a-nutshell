{
 "cells": [
  {
   "cell_type": "markdown",
   "metadata": {},
   "source": [
    "# Herança e Composição"
   ]
  },
  {
   "cell_type": "markdown",
   "metadata": {},
   "source": [
    "## Definições\n",
    "\n",
    "- **Classe base/Super classe.** Classe a partir do qual outras classes derivam.\n",
    "- **Classe derivada/Subclasse.** Classe derivada (i.e. que herda) de uma classe base."
   ]
  },
  {
   "cell_type": "markdown",
   "metadata": {},
   "source": [
    "Herança e composição são dois conceitos fundamentais na orientação a objetos que modelam **relacionamentos** entre duas classes. "
   ]
  },
  {
   "cell_type": "markdown",
   "metadata": {},
   "source": [
    "## Herança\n",
    "\n",
    "A herança é um conceito modela uma relação do tipo **\"isto é\"** (is a). Logo, _classes derivadas_ de uma _classe base_ são especializações desta classe base.\n",
    "\n",
    "Herança é usada principalmente para **incrementar** ou **modificar** (i.e. especializar) as funcionalidades de uma classe base, enquanto as outras funcionalidades permanecem iguais. Com isso, podemos:\n",
    "- Adicionar comportamentos\n",
    "- Modificar comportamentos\n",
    "\n",
    "Em Python, a sintaxe de uma herança é da forma `class <SubClassName>(<SuperClassName>):`"
   ]
  },
  {
   "cell_type": "code",
   "execution_count": 3,
   "metadata": {},
   "outputs": [],
   "source": [
    "class Animal:\n",
    "    \"\"\"Classe base: Animal\"\"\"\n",
    "    def walk(self):\n",
    "        print(\"I'm an animal and I walk\")\n",
    "\n",
    "class Cachorro(Animal):\n",
    "    \"\"\"Classe derivada: Cachorro\"\"\"\n",
    "    def play(self):\n",
    "        print(\"I'm an dog and I play\")"
   ]
  },
  {
   "cell_type": "code",
   "execution_count": 4,
   "metadata": {},
   "outputs": [],
   "source": [
    "c = Cachorro()"
   ]
  },
  {
   "cell_type": "code",
   "execution_count": 5,
   "metadata": {},
   "outputs": [
    {
     "name": "stdout",
     "output_type": "stream",
     "text": [
      "I'm an animal and I walk\n"
     ]
    }
   ],
   "source": [
    "c.walk()"
   ]
  },
  {
   "cell_type": "code",
   "execution_count": 7,
   "metadata": {},
   "outputs": [
    {
     "name": "stdout",
     "output_type": "stream",
     "text": [
      "I'm an dog and I play\n"
     ]
    }
   ],
   "source": [
    "# Diferente de instâncias da classe Animal\n",
    "# objetos da classe cachoro possuem um comportamento adicional \"play\" (brincar)\n",
    "\n",
    "c.play()"
   ]
  },
  {
   "cell_type": "markdown",
   "metadata": {},
   "source": [
    "### `super()`\n",
    "\n",
    "Há diversas situações onde, a fim de evitar duplicação de código, queremos aproveitar de funcionalidades já implementadas na classe base. Por exemplo, considere a seguinte situação:"
   ]
  },
  {
   "cell_type": "code",
   "execution_count": 8,
   "metadata": {},
   "outputs": [],
   "source": [
    "class Animal:\n",
    "\n",
    "    def __init__(self, weight):\n",
    "        self.weight = weight\n",
    "\n",
    "\n",
    "class Cachorro(Animal):\n",
    "\n",
    "    def __init__(self, weight, sound):\n",
    "        self.weight = weight\n",
    "        self.sound = sound"
   ]
  },
  {
   "cell_type": "markdown",
   "metadata": {},
   "source": [
    "Note que na classe `Cachorro`, não é interessante replicarmos a lógica de atribução do dado `self.weight`. A melhor abordagem seria aproveitar da lógica já existente na classe base.\n",
    "\n",
    "Podemos fazer isso usando a função `super()`. A `super()` é uma função que retorna uma instância da classe base, permitindo-nos chamar diretamente seus métodos.\n",
    "\n",
    "O uso mais comum de `super()` é para inicializar atributos definidos na classe base."
   ]
  },
  {
   "cell_type": "code",
   "execution_count": 9,
   "metadata": {},
   "outputs": [],
   "source": [
    "class Animal:\n",
    "    \n",
    "    def __init__(self, weight):\n",
    "        self.weight = weight\n",
    "\n",
    "\n",
    "class Cachorro(Animal):\n",
    "    \n",
    "    def __init__(self, weight, sound):\n",
    "        super().__init__(weight)\n",
    "        self.sound = sound"
   ]
  },
  {
   "cell_type": "code",
   "execution_count": 16,
   "metadata": {},
   "outputs": [
    {
     "data": {
      "text/plain": [
       "10"
      ]
     },
     "execution_count": 16,
     "metadata": {},
     "output_type": "execute_result"
    }
   ],
   "source": [
    "animal = Animal(10)\n",
    "animal.weight"
   ]
  },
  {
   "cell_type": "code",
   "execution_count": 17,
   "metadata": {},
   "outputs": [
    {
     "data": {
      "text/plain": [
       "(10, 'Au Au')"
      ]
     },
     "execution_count": 17,
     "metadata": {},
     "output_type": "execute_result"
    }
   ],
   "source": [
    "cachorro = Cachorro(10, \"Au Au\")\n",
    "cachorro.weight, cachorro.sound"
   ]
  },
  {
   "cell_type": "code",
   "execution_count": 32,
   "metadata": {},
   "outputs": [],
   "source": [
    "class BaseClass:\n",
    "    def __init__(self):\n",
    "        pass\n",
    "\n",
    "class DerivedClass(BaseClass):\n",
    "    \n",
    "    def __init__(self):\n",
    "        inst = super()\n",
    "        print(inst, \"\\n\", type(inst))"
   ]
  },
  {
   "cell_type": "code",
   "execution_count": 33,
   "metadata": {},
   "outputs": [],
   "source": [
    "base = BaseClass()"
   ]
  },
  {
   "cell_type": "code",
   "execution_count": 34,
   "metadata": {},
   "outputs": [
    {
     "name": "stdout",
     "output_type": "stream",
     "text": [
      "<super: <class 'DerivedClass'>, <DerivedClass object>> \n",
      " <class 'super'>\n"
     ]
    }
   ],
   "source": [
    "derived = DerivedClass()"
   ]
  },
  {
   "cell_type": "markdown",
   "metadata": {},
   "source": [
    "### Sobrecarga de Métodos\n",
    "\n",
    "As vezes, ao invés de adicionar funcionalidades, queremos modificá-las.\n",
    "\n",
    "Por exemplo, podemos considerar que todo animal emite um som. Porém, o som de um gato é diferente de um cachorro. Logo, ambas entidades implementam um método `sound()`, mas cada método executa uma lógica diferente."
   ]
  },
  {
   "cell_type": "code",
   "execution_count": 10,
   "metadata": {},
   "outputs": [],
   "source": [
    "class Animal:\n",
    "    def sound(self):\n",
    "        print(\"I'm an animal!\")\n",
    "\n",
    "class Cachorro(Animal):\n",
    "    def sound(self):\n",
    "        print(\"Au au\")\n",
    "\n",
    "class Gato(Animal):\n",
    "    def sound(self):\n",
    "        print(\"Miau\")"
   ]
  },
  {
   "cell_type": "code",
   "execution_count": 11,
   "metadata": {},
   "outputs": [
    {
     "name": "stdout",
     "output_type": "stream",
     "text": [
      "I'm an animal!\n"
     ]
    }
   ],
   "source": [
    "animal = Animal()\n",
    "animal.sound()"
   ]
  },
  {
   "cell_type": "code",
   "execution_count": 13,
   "metadata": {},
   "outputs": [
    {
     "name": "stdout",
     "output_type": "stream",
     "text": [
      "Au au\n"
     ]
    }
   ],
   "source": [
    "cachorro = Cachorro()\n",
    "cachorro.sound()"
   ]
  },
  {
   "cell_type": "code",
   "execution_count": 14,
   "metadata": {},
   "outputs": [
    {
     "name": "stdout",
     "output_type": "stream",
     "text": [
      "Miau\n"
     ]
    }
   ],
   "source": [
    "gato = Gato()\n",
    "gato.sound()"
   ]
  },
  {
   "cell_type": "markdown",
   "metadata": {},
   "source": [
    "#### Polimorfismo\n",
    "\n",
    "A sobrecarga de métodos é uma das formas mais comuns de implementar o **polimorfismo**, assim como uma das principais motivações para o uso de herança em diversos contextos de orientação à objetos.\n",
    "\n",
    "O polimorfismo é o mecanismo utilizado para definirmos lógicas diferentes para um mesmo comportamento em cada classe derivada. \n",
    "\n",
    "- Em outras palavras, podemos implementar lógicas diferentes para métodos com mesma assinatura (em classes derivadas).\n",
    "\n",
    "O exemplo de animais, com gato e cachorro é um caso de polimorfismo, onde as subclasses `Cachorro` e `Gato` possuem sua própria implementação do método (comportamento) `sound()`.\n",
    "\n",
    "\n",
    "#### Duck Typing\n",
    "Embora importante, o polimorfismo em Python é um tanto \"desinteressante\" devido ao *duck typing*.\n",
    "\n",
    "**Duck typing** é um estilo de programação (possível em linguagens dinamicamente tipadas) em que o tipo do objeto não importa. O que importa é apenas a presença ou não do comportamento desejado pelo objeto.\n",
    "\n",
    "Em outras palavras, *não precisamos saber o tipo do objeto para invocarmos um método específico. Se ele contém este método, então invocamos.*\n",
    "\n",
    "> O termo *\"Duck typing\"* vem da expressão \"Se parece um pato e fala como um pato, então provavelmente é um pato\"\n",
    "\n",
    "Por exemplo, considerando o exemplo dos animais:"
   ]
  },
  {
   "cell_type": "code",
   "execution_count": 21,
   "metadata": {},
   "outputs": [],
   "source": [
    "class Pato:\n",
    "    def sound(self):\n",
    "        print(\"Quack quack\")"
   ]
  },
  {
   "cell_type": "code",
   "execution_count": 22,
   "metadata": {},
   "outputs": [],
   "source": [
    "def make_sound(animal):\n",
    "    animal.sound()"
   ]
  },
  {
   "cell_type": "code",
   "execution_count": 23,
   "metadata": {},
   "outputs": [
    {
     "name": "stdout",
     "output_type": "stream",
     "text": [
      "Au au\n"
     ]
    }
   ],
   "source": [
    "make_sound(cachorro)"
   ]
  },
  {
   "cell_type": "code",
   "execution_count": 24,
   "metadata": {},
   "outputs": [
    {
     "name": "stdout",
     "output_type": "stream",
     "text": [
      "Quack quack\n"
     ]
    }
   ],
   "source": [
    "pato = Pato()\n",
    "make_sound(pato)"
   ]
  },
  {
   "cell_type": "markdown",
   "metadata": {},
   "source": [
    "Note que pouco importa o tipo do objeto passado como argumento. Seja `Animal` ou não, contanto que implemente o método desejado, podemos invocá-lo.\n",
    "\n",
    "Dessa forma, o uso de herança continua sendo interessante para o compartilhamento de um código único entre diversas subclasses. Contudo, caso o código compartilhado seja apenas uma interface pública, podemos reconsiderar a implementação aproveitando do *duck typing*.\n",
    "\n",
    "Contudo, é fato que mesmo que um objeto satisfaça uma interface em particular, isso não significa que ele irá funcionar em todas as situações. Portanto, a escolha entre herança, polimorfismo e *duck typing* precisa ser bem pensada."
   ]
  },
  {
   "cell_type": "markdown",
   "metadata": {},
   "source": [
    "### Classes Abstratas\n",
    "\n",
    "Embora o *duck typing* seja útil, nem sempre é fácil ou manutenível criar classes que contém toda a funcionalidade necessária. Assim, podemos usar as classes abstratas base.\n",
    "\n",
    "Classes abstratas base (ou ABCs) são classes que definem um conjunto mínimo (e fundamental) de métodos e atributos que uma classe deve implementar. Com isso, podemos criar classes derivadas que possuem sua própria implementação de cada funcionalidade da classe abstrata base.\n",
    "\n",
    "> Note que a classe base não pode ser instanciada.\n",
    ">\n",
    "> Além disso, as classes derivadas **precisam** implementar todas as funcionalidades definidas na classe abstrata base. "
   ]
  },
  {
   "cell_type": "markdown",
   "metadata": {},
   "source": [
    "## Composição\n",
    "\n",
    "A composição modela uma relação do tipo **\"composto de\"** (has a). Isto significa que a classe em questão é composta (ou seja, contém dados/atributos) pela combinação de diferentes objetos. No geral, chamamos essa instância que compõe a classe de _componente_."
   ]
  },
  {
   "cell_type": "code",
   "execution_count": 1,
   "metadata": {},
   "outputs": [],
   "source": [
    "class Motor:\n",
    "    pass\n",
    "\n",
    "\n",
    "class Carro:\n",
    "    \n",
    "    def __init__(self, cor, modelo, ano):\n",
    "        self.__cor = cor\n",
    "        self.__modelo = modelo\n",
    "        self.__ano = ano\n",
    "        self.__motor = Motor()"
   ]
  }
 ],
 "metadata": {
  "kernelspec": {
   "display_name": "Python 3",
   "language": "python",
   "name": "python3"
  },
  "language_info": {
   "codemirror_mode": {
    "name": "ipython",
    "version": 3
   },
   "file_extension": ".py",
   "mimetype": "text/x-python",
   "name": "python",
   "nbconvert_exporter": "python",
   "pygments_lexer": "ipython3",
   "version": "3.9.6"
  },
  "toc": {
   "base_numbering": 1,
   "nav_menu": {},
   "number_sections": true,
   "sideBar": true,
   "skip_h1_title": true,
   "title_cell": "Sumário",
   "title_sidebar": "Sumário",
   "toc_cell": true,
   "toc_position": {},
   "toc_section_display": true,
   "toc_window_display": false
  },
  "toc-autonumbering": false,
  "toc-showmarkdowntxt": false,
  "varInspector": {
   "cols": {
    "lenName": 16,
    "lenType": 16,
    "lenVar": 40
   },
   "kernels_config": {
    "python": {
     "delete_cmd_postfix": "",
     "delete_cmd_prefix": "del ",
     "library": "var_list.py",
     "varRefreshCmd": "print(var_dic_list())"
    },
    "r": {
     "delete_cmd_postfix": ") ",
     "delete_cmd_prefix": "rm(",
     "library": "var_list.r",
     "varRefreshCmd": "cat(var_dic_list()) "
    }
   },
   "types_to_exclude": [
    "module",
    "function",
    "builtin_function_or_method",
    "instance",
    "_Feature"
   ],
   "window_display": false
  }
 },
 "nbformat": 4,
 "nbformat_minor": 4
}
