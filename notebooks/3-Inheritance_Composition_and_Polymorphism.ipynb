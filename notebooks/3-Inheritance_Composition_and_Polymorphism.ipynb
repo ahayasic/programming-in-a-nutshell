{
 "cells": [
  {
   "cell_type": "markdown",
   "metadata": {},
   "source": [
    "# Herança e Composição"
   ]
  },
  {
   "cell_type": "markdown",
   "metadata": {},
   "source": [
    "Herança e composição são dois conceitos fundamentais na orientação a objetos que modelam **relacionamentos** entre duas classes."
   ]
  },
  {
   "cell_type": "markdown",
   "metadata": {},
   "source": [
    "## Herança\n",
    "\n",
    "A herança é uma estratégia para modelarmos relações do tipo **\"isto é\"** (is a), onde podemos definir classes especializadas com base em uma classe genérica. As classes especializadas são denominadas classes derivadas ou subclasses, enqunato as classes mais genéricas são denominadas classes base (ou superclasse).\n",
    "\n",
    "Herança é usada principalmente para **incrementar** ou **especializar** funcionalidades de uma classe base, enquanto as demais funcionalidades permanecem iguais. Em outras palavras, podemos:\n",
    "\n",
    "- Adicionar comportamentos\n",
    "- Modificar comportamentos\n",
    "\n",
    "Ao mesmo tempo em que os códigos definidos na classe base são automaticamente herdados pelas classes derivadas, evitando duplicidade de código.\n",
    "\n",
    "Em Python, a sintaxe para herança é da forma `class <SubClassName>(<SuperClassName>):`"
   ]
  },
  {
   "cell_type": "code",
   "execution_count": 12,
   "metadata": {},
   "outputs": [],
   "source": [
    "class Animal:\n",
    "    \"\"\"Classe base: Animal\"\"\"\n",
    "    def walk(self):\n",
    "        print(\"I'm an animal and I walk\")\n",
    "\n",
    "class Cachorro(Animal):\n",
    "    \"\"\"Classe derivada: Cachorro\"\"\"\n",
    "    def play(self):\n",
    "        print(\"I'm an dog and I like to chase balls\")"
   ]
  },
  {
   "cell_type": "code",
   "execution_count": 13,
   "metadata": {},
   "outputs": [
    {
     "name": "stdout",
     "output_type": "stream",
     "text": [
      "I'm an animal and I walk\n"
     ]
    }
   ],
   "source": [
    "c = Cachorro()\n",
    "c.walk()"
   ]
  },
  {
   "cell_type": "code",
   "execution_count": 12,
   "metadata": {},
   "outputs": [
    {
     "name": "stdout",
     "output_type": "stream",
     "text": [
      "I'm an dog and I like to chase balls\n"
     ]
    }
   ],
   "source": [
    "# Diferente de instâncias da classe Animal, os da classe cachoro possuem um comportamento adicional \"play\" (brincar)\n",
    "#\n",
    "c.play()"
   ]
  },
  {
   "cell_type": "markdown",
   "metadata": {},
   "source": [
    "### `super()`\n",
    "\n",
    "Para aproveitar de funcionalidades já implementadas na classe base podemos usar a função `super()`. A `super()` é uma função que retorna uma instância da classe base, permitindo-nos chamar diretamente seus métodos. O uso mais comum de `super()` é para inicializar atributos definidos na classe base (mais comum, não o único!)\n",
    "\n",
    "> Note que na classe `Cachorro`, não é interessante replicarmos a lógica de atribução do dado `self.weight`. A melhor abordagem seria aproveitar da lógica já existente na classe base."
   ]
  },
  {
   "cell_type": "code",
   "execution_count": 14,
   "metadata": {},
   "outputs": [],
   "source": [
    "class Animal:\n",
    "    \n",
    "    def __init__(self, weight):\n",
    "        self.weight = weight\n",
    "\n",
    "\n",
    "class Cachorro(Animal):\n",
    "    \n",
    "    def __init__(self, weight, sound):\n",
    "        super().__init__(weight)\n",
    "        self.sound = sound"
   ]
  },
  {
   "cell_type": "code",
   "execution_count": 15,
   "metadata": {},
   "outputs": [
    {
     "data": {
      "text/plain": [
       "10"
      ]
     },
     "execution_count": 15,
     "metadata": {},
     "output_type": "execute_result"
    }
   ],
   "source": [
    "animal = Animal(10)\n",
    "animal.weight"
   ]
  },
  {
   "cell_type": "code",
   "execution_count": 16,
   "metadata": {},
   "outputs": [
    {
     "data": {
      "text/plain": [
       "(10, 'Au Au')"
      ]
     },
     "execution_count": 16,
     "metadata": {},
     "output_type": "execute_result"
    }
   ],
   "source": [
    "cachorro = Cachorro(10, \"Au Au\")\n",
    "cachorro.weight, cachorro.sound"
   ]
  },
  {
   "cell_type": "markdown",
   "metadata": {},
   "source": [
    "### Sobrecarga de Métodos\n",
    "\n",
    "Além de adicionar novos comportamentos à classes, podemos querer modificar comportamentos já existentes.\n",
    "\n",
    "Por exemplo, podemos considerar que todo animal emite um som. Porém, o som de um gato é diferente de um cachorro. Logo, ambas entidades implementam um método `sound()`, mas cada método executa uma lógica diferente."
   ]
  },
  {
   "cell_type": "code",
   "execution_count": 23,
   "metadata": {},
   "outputs": [],
   "source": [
    "class Animal:\n",
    "    def sound(self):\n",
    "        print(\"I'm an animal!\")\n",
    "\n",
    "class Cachorro(Animal):\n",
    "    def sound(self):\n",
    "        print(\"Au au\")"
   ]
  },
  {
   "cell_type": "code",
   "execution_count": 24,
   "metadata": {},
   "outputs": [
    {
     "name": "stdout",
     "output_type": "stream",
     "text": [
      "I'm an animal!\n"
     ]
    }
   ],
   "source": [
    "animal = Animal()\n",
    "animal.sound()"
   ]
  },
  {
   "cell_type": "code",
   "execution_count": 25,
   "metadata": {},
   "outputs": [
    {
     "name": "stdout",
     "output_type": "stream",
     "text": [
      "Au au\n"
     ]
    }
   ],
   "source": [
    "cachorro = Cachorro()\n",
    "cachorro.sound()"
   ]
  },
  {
   "cell_type": "markdown",
   "metadata": {},
   "source": [
    "Tal estratégia de especializar comportamentos de acordo com cada subclasse é denominada polimorfismo (ad-hoc, uma vez que existem outros tipos de polimorfismo) e é utilizada com a ideia de fornecer uma interface (no caso, a assinatura do método) única com o qual diferentes elementos do código podem existir, porém o comportamento em si varia de quem interage.\n",
    "\n",
    "Contudo, dado que Python é uma linguagem de tipagem dinâmica, pouco importa o tipo do objeto passado como argumento. Seja `Animal` ou não, contanto que implemente o método desejado, podemos invocá-lo.\n",
    "\n",
    "Isso significa que o uso de herança continua sendo interessante para o compartilhamento de um código único entre diversas subclasses. Contudo, caso o código compartilhado seja apenas uma interface pública, podemos reconsiderar a implementação aproveitando do *duck typing*.\n",
    "\n",
    "Por outro lado, é fato que mesmo que um objeto satisfaça uma interface em particular, isso não significa que ele irá funcionar em todas as situações."
   ]
  },
  {
   "cell_type": "code",
   "execution_count": 26,
   "metadata": {},
   "outputs": [],
   "source": [
    "class Pato:\n",
    "    def sound(self):\n",
    "        print(\"Quack quack\")"
   ]
  },
  {
   "cell_type": "code",
   "execution_count": 27,
   "metadata": {},
   "outputs": [],
   "source": [
    "def make_sound(animal):\n",
    "    animal.sound()"
   ]
  },
  {
   "cell_type": "code",
   "execution_count": 28,
   "metadata": {},
   "outputs": [
    {
     "name": "stdout",
     "output_type": "stream",
     "text": [
      "Au au\n"
     ]
    }
   ],
   "source": [
    "make_sound(cachorro)"
   ]
  },
  {
   "cell_type": "code",
   "execution_count": 29,
   "metadata": {},
   "outputs": [
    {
     "name": "stdout",
     "output_type": "stream",
     "text": [
      "Quack quack\n"
     ]
    }
   ],
   "source": [
    "pato = Pato()\n",
    "make_sound(pato)"
   ]
  },
  {
   "cell_type": "markdown",
   "metadata": {},
   "source": [
    "### Classes Abstratas\n",
    "\n",
    "Embora o *duck typing* seja útil, nem sempre é fácil ou manutenível criar classes que contém todos os comportamentos necessários para o funcionameneto do código. Nesse contexto, podemos definir interfaces de forma mais rígida, que é o caso das classes base abstratas.\n",
    "\n",
    "Classes base abstratas (ou ABCs, do inglês Abstract Base Classes) são classes que definem um conjunto mínimo (e fundamental) de métodos (comportamentos) que uma classe deve implementar. Com isso, podemos criar classes derivadas que possuem sua própria implementação de cada funcionalidade da classe abstrata base.\n",
    "\n",
    "Os métodos definidos pela classe abstratas que precisam ser especializados nas classes derivadas são denominados métodos abstratos. Quando uma classe só possui métodos abstratos, chamamos de classe abstrata pura.\n",
    "\n",
    "\n",
    "> Note que a classe base não pode ser instanciada, uma vez que deve servir apenas como um modelo (template)\n",
    ">\n",
    "> Além disso, as classes derivadas **precisam** sobreescrever todos os métodos abstratos definidos nas classes base. "
   ]
  },
  {
   "cell_type": "code",
   "execution_count": 30,
   "metadata": {},
   "outputs": [],
   "source": [
    "from abc import ABC, abstractmethod\n",
    "\n",
    "class Animal(ABC):\n",
    "    def __init__(self, idade, peso):\n",
    "        self.idade = idade\n",
    "        self.peso = peso\n",
    "\n",
    "    def eat(self):\n",
    "        return \"I'm eating!\"\n",
    "\n",
    "    @abstractmethod\n",
    "    def sound(self):\n",
    "        pass\n",
    "\n",
    "\n",
    "class Cachorro(Animal):\n",
    "    def __init__(self, idade, peso, name):\n",
    "        super().__init__(idade, peso)\n",
    "        self.name = name\n",
    "    \n",
    "    def sound(self):\n",
    "        print('au au!')"
   ]
  },
  {
   "cell_type": "code",
   "execution_count": 32,
   "metadata": {},
   "outputs": [
    {
     "name": "stdout",
     "output_type": "stream",
     "text": [
      "au au!\n"
     ]
    }
   ],
   "source": [
    "cachorro = Cachorro(idade=1, peso=12, name='bruce')\n",
    "cachorro.sound()"
   ]
  },
  {
   "cell_type": "code",
   "execution_count": 33,
   "metadata": {},
   "outputs": [
    {
     "ename": "TypeError",
     "evalue": "Can't instantiate abstract class Animal with abstract method sound",
     "output_type": "error",
     "traceback": [
      "\u001b[0;31m---------------------------------------------------------------------------\u001b[0m",
      "\u001b[0;31mTypeError\u001b[0m                                 Traceback (most recent call last)",
      "Input \u001b[0;32mIn [33]\u001b[0m, in \u001b[0;36m<cell line: 3>\u001b[0;34m()\u001b[0m\n\u001b[1;32m      1\u001b[0m \u001b[38;5;66;03m# Note que a classe abstrata não pode ser instanciada\u001b[39;00m\n\u001b[1;32m      2\u001b[0m \u001b[38;5;66;03m#\u001b[39;00m\n\u001b[0;32m----> 3\u001b[0m animal \u001b[38;5;241m=\u001b[39m \u001b[43mAnimal\u001b[49m\u001b[43m(\u001b[49m\u001b[38;5;124;43m'\u001b[39;49m\u001b[38;5;124;43manimal\u001b[39;49m\u001b[38;5;124;43m'\u001b[39;49m\u001b[43m)\u001b[49m\n",
      "\u001b[0;31mTypeError\u001b[0m: Can't instantiate abstract class Animal with abstract method sound"
     ]
    }
   ],
   "source": [
    "# Note que a classe abstrata não pode ser instanciada\n",
    "#\n",
    "animal = Animal('animal')"
   ]
  },
  {
   "cell_type": "code",
   "execution_count": 34,
   "metadata": {},
   "outputs": [],
   "source": [
    "class Gato(Animal):\n",
    "\n",
    "    def __init__(self):\n",
    "        super().__init__('gato')"
   ]
  },
  {
   "cell_type": "code",
   "execution_count": 35,
   "metadata": {},
   "outputs": [
    {
     "ename": "TypeError",
     "evalue": "Can't instantiate abstract class Gato with abstract method sound",
     "output_type": "error",
     "traceback": [
      "\u001b[0;31m---------------------------------------------------------------------------\u001b[0m",
      "\u001b[0;31mTypeError\u001b[0m                                 Traceback (most recent call last)",
      "Input \u001b[0;32mIn [35]\u001b[0m, in \u001b[0;36m<cell line: 4>\u001b[0;34m()\u001b[0m\n\u001b[1;32m      1\u001b[0m \u001b[38;5;66;03m# Assim como não podemos instanciar uma classe\u001b[39;00m\n\u001b[1;32m      2\u001b[0m \u001b[38;5;66;03m# que não possui todos os métodos abstratos da classe base redefinidos\u001b[39;00m\n\u001b[1;32m      3\u001b[0m \u001b[38;5;66;03m#\u001b[39;00m\n\u001b[0;32m----> 4\u001b[0m gato \u001b[38;5;241m=\u001b[39m \u001b[43mGato\u001b[49m\u001b[43m(\u001b[49m\u001b[43m)\u001b[49m\n",
      "\u001b[0;31mTypeError\u001b[0m: Can't instantiate abstract class Gato with abstract method sound"
     ]
    }
   ],
   "source": [
    "# Assim como não podemos instanciar uma classe\n",
    "# que não possui todos os métodos abstratos da classe base redefinidos\n",
    "#\n",
    "gato = Gato()"
   ]
  },
  {
   "cell_type": "markdown",
   "metadata": {},
   "source": [
    "### Desvantagens do uso de Herança\n",
    "\n",
    "Herança é um mecanismo que utilizamos para modelarmos relacionamentos de **\"isto é\"** (por exemplo, um cachorro é um Animal, um gato é um Animal) de forma que comportamentos padrões entre todas as subclasses de uma superclasse são herdados sem necessidade de reescrita de código (evitando assim duplicação). Logo, note que o foco do uso de herança está em: organização lógica das entidades e minimização de duplicidade de código.\n",
    "\n",
    "Contudo, a Herança possui dois problemas que devem ser evitados:\n",
    "\n",
    "- Explosão de Classes\n",
    "- Acoplamento "
   ]
  },
  {
   "cell_type": "markdown",
   "metadata": {},
   "source": [
    "#### Explosão de Classes\n",
    "\n",
    "Dependendo de como usamos herança, podemos acabar criando uma hierarquia grande e complexa de classes.\n",
    "\n",
    "Por exemplo, supondo um cenário onde queremos implementar um sistema de funcionários de uma empresa que possui diversos tipos de funcionários e cada funcionário possui um tipo de contrato de pagamento. Note como o número de classes cresce exponencialmente para cada variação desejada.\n",
    "\n",
    "Este problema, conhecido como \"explosão de classes\", é uma das principais desvantagens no uso de herança e o principal motivo que leva muitas pessoas desenvolvedoras a odiarem herança."
   ]
  },
  {
   "cell_type": "code",
   "execution_count": 57,
   "metadata": {},
   "outputs": [],
   "source": [
    "class PessoaFuncionaria:\n",
    "    pass\n",
    "\n",
    "class PessoaProgramadora(PessoaFuncionaria):\n",
    "    pass\n",
    "\n",
    "class PessoaGerente(PessoaFuncionaria):\n",
    "    pass\n",
    "\n",
    "class PessoaVendedora(PessoaFuncionaria):\n",
    "    pass\n",
    "\n",
    "class PessoaProgramadoraHora(PessoaProgramadora):\n",
    "    pass\n",
    "\n",
    "class PessoaProgramadoraComissao(PessoaProgramadora):\n",
    "    pass\n",
    "\n",
    "class PessoaGerenteHora(PessoaGerente):\n",
    "    pass\n",
    "\n",
    "class PessoaVendedoraHora(PessoaVendedora):\n",
    "    pass\n",
    "\n",
    "class PessoaVendedoraComissao(PessoaVendedora):\n",
    "    pass"
   ]
  },
  {
   "cell_type": "markdown",
   "metadata": {},
   "source": [
    "Em contrapartida, podemos usar composição para facilitar as coisas, como na seção [Favorecer Composição sobre Herança](#favorecer-composicao-sobre-heranca)."
   ]
  },
  {
   "cell_type": "markdown",
   "metadata": {},
   "source": [
    "#### Alto Acoplamento\n",
    "\n",
    "> Para mais detalhes sobre acoplamento (e coesão), [clique aqui](#).\n",
    "\n",
    "Alterações na classe base **podem** afetar as classes derivadas. Embora na maioria das situações esse acoplamento seja exatamente o comportamento desejado, as vezes isso pode ser problemático.\n",
    "\n",
    "Por exemplo, vamos supor que temos uma classe Veículo com especializações: Carro, Motocicleta e Veículo Lunar. Qualquer comportamento comum (entre as classes derivadas), tal como alterações neste, podem ser executadas na classe `Veículo` e, todas as demais classes serão impactadas."
   ]
  },
  {
   "cell_type": "code",
   "execution_count": 40,
   "metadata": {},
   "outputs": [],
   "source": [
    "class Veiculo:\n",
    "    def __init__(self):\n",
    "        print(\"Veículo criado\")\n",
    "    \n",
    "    def ligar(self):\n",
    "        print(\"Veículo ligado\")\n",
    "    \n",
    "    def trocar_pneu(self):\n",
    "        # print(\"Não sei trocar pneu\") \n",
    "        print(\"Pneu trocado!\")  # Modificação que corrige um bug em todas as classes derivadas sem necessidade de duplicação de código\n",
    "\n",
    "class Carro(Veiculo):\n",
    "    def __init__(self):\n",
    "        print(\"Carro criado\")\n",
    "        \n",
    "class Motocicleta(Veiculo):\n",
    "    def __init__(self):\n",
    "        print(\"Motocicleta criada\")\n",
    "\n",
    "class VeiculoLunar(Veiculo):\n",
    "    def __init__(self):\n",
    "        print(\"Veículo Lunar criado\")"
   ]
  },
  {
   "cell_type": "markdown",
   "metadata": {},
   "source": [
    "Porém, e se, **posteriormente**, surgiu a necessidade de aplicar uma alteração que só é válida para uma parte das classes derivadas, como, por exemplo, trocar a vela do motor? Carros e motocicletas possuem motores a combustão com vela, mas um veículo lunar não!\n",
    "\n",
    "Em uma base de código grande, onde muitas classes caem na mesma situação que `VeiculoLunar`, executar tal alteração vai exigir um grande esforço com muitas linhas de código impactadas. Consequentemente, a inserção de bugs é muito provável.\n",
    "\n",
    "Uma forma de minimizar esse problema é favorecer o uso de composição em relação a herança. Logo, basta criarmos classes `MotorCombustao`, `MotorEletrico`, definir que, inicialmente, todos os veículos terão motor a combustão e sobreescrever classes cuja definição não é válida. Note que isso ainda vai gerar um grande trabalho, porém menor."
   ]
  },
  {
   "cell_type": "code",
   "execution_count": 42,
   "metadata": {},
   "outputs": [],
   "source": [
    "class MotorCombustao:\n",
    "    def __init__(self):\n",
    "        print('Motor à combustão criado')\n",
    "    def change_spark_plug(self):\n",
    "        pass\n",
    "\n",
    "class MotorEletrico:\n",
    "    def __init__(self):\n",
    "        print('Motor elétrico criado')\n",
    "\n",
    "class Veículo:\n",
    "    def __init__(self):\n",
    "        print('Veículo criado')\n",
    "        self.motor = MotorCombustao()\n",
    "\n",
    "class LunarRover(Vehicle):\n",
    "    change_spark_plug = None\n",
    "    def __init__(self):\n",
    "        print('Veículo Lunar Criado')\n",
    "        self.motor = MotorEletrico()"
   ]
  },
  {
   "cell_type": "code",
   "execution_count": 51,
   "metadata": {},
   "outputs": [],
   "source": [
    "class MotorEletrico:\n",
    "    def __init__(self):\n",
    "        print('Motor elétrico criado')\n",
    "    \n",
    "    def __str__(self):\n",
    "        return 'Eu sou um motor elétrico!'\n",
    "    \n",
    "class MotorCombustao:\n",
    "    def __init__(self):\n",
    "        print('Motor à combustão criado')\n",
    "    \n",
    "    def __str__(self):\n",
    "        return 'Eu sou um motor à combustão!'\n",
    "\n",
    "class Veiculo:\n",
    "    def __init__(self, motor):\n",
    "        self.motor = motor\n",
    "    \n",
    "    def show_motor(self):\n",
    "        print(self.motor)\n",
    "\n",
    "class Carro(Veiculo):\n",
    "    def __init__(self):\n",
    "        print('Carro criado')\n",
    "        super().__init__(MotorCombustao())\n",
    "\n",
    "class VeiculoLunar(Veiculo):\n",
    "    def __init__(self):\n",
    "        print('Veículo lunar criado')\n",
    "        super().__init__(MotorEletrico())"
   ]
  },
  {
   "cell_type": "code",
   "execution_count": 52,
   "metadata": {},
   "outputs": [
    {
     "name": "stdout",
     "output_type": "stream",
     "text": [
      "Carro criado\n",
      "Motor à combustão criado\n",
      "Veículo lunar criado\n",
      "Motor elétrico criado\n"
     ]
    }
   ],
   "source": [
    "car = Carro()\n",
    "rover = VeiculoLunar()"
   ]
  },
  {
   "cell_type": "code",
   "execution_count": 54,
   "metadata": {},
   "outputs": [
    {
     "name": "stdout",
     "output_type": "stream",
     "text": [
      "Eu sou um motor à combustão!\n"
     ]
    }
   ],
   "source": [
    "car.show_motor()"
   ]
  },
  {
   "cell_type": "code",
   "execution_count": 55,
   "metadata": {},
   "outputs": [
    {
     "name": "stdout",
     "output_type": "stream",
     "text": [
      "Eu sou um motor elétrico!\n"
     ]
    }
   ],
   "source": [
    "rover.show_motor()"
   ]
  },
  {
   "cell_type": "markdown",
   "metadata": {},
   "source": [
    "### Heranças Múltiplas e Mixins\n",
    "\n",
    "> Work in progress"
   ]
  },
  {
   "cell_type": "markdown",
   "metadata": {},
   "source": [
    "## Composição\n",
    "\n",
    "A composição modela uma relação do tipo **\"composto por\"** (has a). Isto significa que uma classe compositora tem como atributos instâncias de outras classes (chamamos essas instâncias de _componente_).\n",
    "\n",
    "Composição é uma forma de utilizar lógicas definidas nos componentes através de suas interfaces. Ainda, dado que apenas as interfaces são utilizadas, alterações no componente não impactam a classe compositora, como ocorre com herança (exemplo apresentado na seção [Alto Acoplamento](#alto-acoplamento), onde uma alteração que deveria impactar apenas um conjunto de classes derivadas, impactava todas, tornando necessário um grande esforço para adaptação)."
   ]
  },
  {
   "cell_type": "code",
   "execution_count": 59,
   "metadata": {},
   "outputs": [],
   "source": [
    "import uuid\n",
    "\n",
    "class Endereco:\n",
    "    def __init__(self, rua, numero, cep):\n",
    "        self.rua = rua\n",
    "        self.numero = numero\n",
    "        self.cep = cep\n",
    "    \n",
    "    def __str__(self):\n",
    "        return f'Rua {self.rua}, {self.numero}. CEP: {self.cep}'\n",
    "\n",
    "class PessoaFuncionaria:\n",
    "    def __init__(self, nome, endereco):\n",
    "        self.id = str(uuid.uuid4())\n",
    "        self.nome = nome\n",
    "        self.endereco = endereco"
   ]
  },
  {
   "cell_type": "code",
   "execution_count": 60,
   "metadata": {},
   "outputs": [
    {
     "name": "stdout",
     "output_type": "stream",
     "text": [
      "Rua Street 1, 475. CEP: 12345\n"
     ]
    }
   ],
   "source": [
    "f = PessoaFuncionaria(\n",
    "    nome='Carl Gauss',\n",
    "    endereco=Endereco(\n",
    "        rua='Street 1',\n",
    "        numero='475',\n",
    "        cep='12345',\n",
    "    )\n",
    ")\n",
    "\n",
    "print(f.endereco)"
   ]
  },
  {
   "cell_type": "markdown",
   "metadata": {},
   "source": [
    "## Favorecer Composição Sobre Herança\n",
    "\n",
    "A fim de evitar os problemas no uso de herança, muitas pessoas preferem modelar relacionamentos entre elementos da forma **\"composto por\"** (composição). Como dito na seção [Composição](#composição), tal estratégia nos ajuda a manter o código menos desacoplado, ao mesmo tempo em que temos a vantagem de reuso de código.\n",
    "\n",
    "> Note, no entanto, que isso não significa que o código deve estar ser totalmente desacoplado! Afinal, um código sem acoplamento é um código onde os elementos não interagem entre si e, consequentemente, nenhuma ação é feita! Ainda, o uso de herança permanece válido quando usada de forma apropriada!\n",
    "\n",
    "Para mais detalhes, veja os links abaixo:\n",
    "\n",
    "- [Inheritance and Composition: A Python OOP Guide by Real Python](https://realpython.com/inheritance-composition-python/)\n",
    "- [Why COMPOSITION is better than INHERITANCE - detailed Python example](https://www.youtube.com/watch?v=0mcP8ZpUR38)"
   ]
  },
  {
   "cell_type": "markdown",
   "metadata": {},
   "source": [
    "## Conclusões\n",
    "\n",
    "- Herança é uma ótima alternativa para reuso de código. Porém, devemos usar com cuidado visto que é fácil se perder.\n",
    "- Favorecer o uso de composição sempre que possível.\n",
    "- Classes abstratas são recomendáveis quando o objetivo é definir um \"contrato\" entre um conjunto de classes com comportamentos semelhantes."
   ]
  },
  {
   "cell_type": "markdown",
   "metadata": {
    "tags": []
   },
   "source": [
    "## Referências\n",
    "\n",
    "- [Python OOP Tutorial 4: Inheritance - Creating Subclasses by Corey Schafer](https://www.youtube.com/watch?v=RSl87lqOXDE)\n",
    "- [OBJECT-ORIENTED PROGRAMMING AND INHERITANCE](https://inventwithpython.com/beyond/chapter16.html)\n",
    "- [Object-Oriented Programming (OOP) in Python 3 by Real Python](https://realpython.com/python3-object-oriented-programming/)\n",
    "- [Inheritance and Composition: A Python OOP Guide by Real Python](https://realpython.com/inheritance-composition-python/)"
   ]
  }
 ],
 "metadata": {
  "kernelspec": {
   "display_name": "Python 3 (ipykernel)",
   "language": "python",
   "name": "python3"
  },
  "language_info": {
   "codemirror_mode": {
    "name": "ipython",
    "version": 3
   },
   "file_extension": ".py",
   "mimetype": "text/x-python",
   "name": "python",
   "nbconvert_exporter": "python",
   "pygments_lexer": "ipython3",
   "version": "3.9.10"
  },
  "toc": {
   "base_numbering": 1,
   "nav_menu": {},
   "number_sections": true,
   "sideBar": true,
   "skip_h1_title": true,
   "title_cell": "Sumário",
   "title_sidebar": "Sumário",
   "toc_cell": true,
   "toc_position": {},
   "toc_section_display": true,
   "toc_window_display": false
  },
  "toc-autonumbering": false,
  "toc-showmarkdowntxt": false,
  "varInspector": {
   "cols": {
    "lenName": 16,
    "lenType": 16,
    "lenVar": 40
   },
   "kernels_config": {
    "python": {
     "delete_cmd_postfix": "",
     "delete_cmd_prefix": "del ",
     "library": "var_list.py",
     "varRefreshCmd": "print(var_dic_list())"
    },
    "r": {
     "delete_cmd_postfix": ") ",
     "delete_cmd_prefix": "rm(",
     "library": "var_list.r",
     "varRefreshCmd": "cat(var_dic_list()) "
    }
   },
   "types_to_exclude": [
    "module",
    "function",
    "builtin_function_or_method",
    "instance",
    "_Feature"
   ],
   "window_display": false
  }
 },
 "nbformat": 4,
 "nbformat_minor": 4
}
