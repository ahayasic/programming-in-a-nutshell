{
 "cells": [
  {
   "cell_type": "markdown",
   "metadata": {},
   "source": [
    "# Herança e Composição"
   ]
  },
  {
   "cell_type": "markdown",
   "metadata": {},
   "source": [
    "Herança e composição são dois conceitos fundamentais na orientação a objetos que modelam **relacionamentos** entre duas classes."
   ]
  },
  {
   "cell_type": "markdown",
   "metadata": {},
   "source": [
    "## Herança\n",
    "\n",
    "A herança é um conceito modela uma relação do tipo **\"isto é\"** (is a). Logo, _classes derivadas_ (também chamadas de subclasses) de uma _classe base_ são especializações desta classe base (também chamada de super classe).\n",
    "\n",
    "A Herança é usada principalmente para **incrementar** ou **especializar** funcionalidades de uma classe base, enquanto as demais funcionalidades permanecem iguais. Isso significa que podemos:\n",
    "\n",
    "- Adicionar comportamentos\n",
    "- Modificar comportamentos\n",
    "\n",
    "Em Python, a sintaxe de uma herança é da forma `class <SubClassName>(<SuperClassName>):`"
   ]
  },
  {
   "cell_type": "code",
   "execution_count": 14,
   "metadata": {},
   "outputs": [],
   "source": [
    "class Animal:\n",
    "    \"\"\"Classe base: Animal\"\"\"\n",
    "    def walk(self):\n",
    "        print(\"I'm an animal and I walk\")\n",
    "\n",
    "class Cachorro(Animal):\n",
    "    \"\"\"Classe derivada: Cachorro\"\"\"\n",
    "    def play(self):\n",
    "        print(\"I'm an dog and I like to chase balls\")"
   ]
  },
  {
   "cell_type": "code",
   "execution_count": 10,
   "metadata": {},
   "outputs": [
    {
     "name": "stdout",
     "output_type": "stream",
     "text": [
      "I'm an animal and I walk\n"
     ]
    }
   ],
   "source": [
    "c = Cachorro()\n",
    "c.walk()"
   ]
  },
  {
   "cell_type": "code",
   "execution_count": 12,
   "metadata": {},
   "outputs": [
    {
     "name": "stdout",
     "output_type": "stream",
     "text": [
      "I'm an dog and I like to chase balls\n"
     ]
    }
   ],
   "source": [
    "# Diferente de instâncias da classe Animal, os da classe cachoro possuem um comportamento adicional \"play\" (brincar)\n",
    "#\n",
    "c.play()"
   ]
  },
  {
   "cell_type": "markdown",
   "metadata": {},
   "source": [
    "### `super()`\n",
    "\n",
    "Há diversas situações onde, a fim de evitar duplicação de código, queremos aproveitar de funcionalidades já implementadas na classe base. Por exemplo, considere a seguinte situação:"
   ]
  },
  {
   "cell_type": "code",
   "execution_count": 8,
   "metadata": {},
   "outputs": [],
   "source": [
    "class Animal:\n",
    "\n",
    "    def __init__(self, weight):\n",
    "        self.weight = weight\n",
    "\n",
    "\n",
    "class Cachorro(Animal):\n",
    "\n",
    "    def __init__(self, weight, sound):\n",
    "        self.weight = weight\n",
    "        self.sound = sound"
   ]
  },
  {
   "cell_type": "markdown",
   "metadata": {},
   "source": [
    "Note que na classe `Cachorro`, não é interessante replicarmos a lógica de atribução do dado `self.weight`. A melhor abordagem seria aproveitar da lógica já existente na classe base.\n",
    "\n",
    "Podemos fazer isso usando a função `super()`. A `super()` é uma função que retorna uma instância da classe base, permitindo-nos chamar diretamente seus métodos.\n",
    "\n",
    "O uso mais comum de `super()` é para inicializar atributos definidos na classe base."
   ]
  },
  {
   "cell_type": "code",
   "execution_count": 15,
   "metadata": {},
   "outputs": [],
   "source": [
    "class Animal:\n",
    "    \n",
    "    def __init__(self, weight):\n",
    "        self.weight = weight\n",
    "\n",
    "\n",
    "class Cachorro(Animal):\n",
    "    \n",
    "    def __init__(self, weight, sound):\n",
    "        super().__init__(weight)\n",
    "        self.sound = sound"
   ]
  },
  {
   "cell_type": "code",
   "execution_count": 16,
   "metadata": {},
   "outputs": [
    {
     "data": {
      "text/plain": [
       "10"
      ]
     },
     "execution_count": 16,
     "metadata": {},
     "output_type": "execute_result"
    }
   ],
   "source": [
    "animal = Animal(10)\n",
    "animal.weight"
   ]
  },
  {
   "cell_type": "code",
   "execution_count": 17,
   "metadata": {},
   "outputs": [
    {
     "data": {
      "text/plain": [
       "(10, 'Au Au')"
      ]
     },
     "execution_count": 17,
     "metadata": {},
     "output_type": "execute_result"
    }
   ],
   "source": [
    "cachorro = Cachorro(10, \"Au Au\")\n",
    "cachorro.weight, cachorro.sound"
   ]
  },
  {
   "cell_type": "markdown",
   "metadata": {},
   "source": [
    "### Sobrecarga de Métodos\n",
    "\n",
    "Além de adicionar novos comportamentos à classes, podemos querer modificar comportamentos já existentes.\n",
    "\n",
    "Por exemplo, podemos considerar que todo animal emite um som. Porém, o som de um gato é diferente de um cachorro. Logo, ambas entidades implementam um método `sound()`, mas cada método executa uma lógica diferente."
   ]
  },
  {
   "cell_type": "code",
   "execution_count": 64,
   "metadata": {},
   "outputs": [],
   "source": [
    "class Animal:\n",
    "    def sound(self):\n",
    "        print(\"I'm an animal!\")\n",
    "\n",
    "class Cachorro(Animal):\n",
    "    def sound(self):\n",
    "        print(\"Au au\")"
   ]
  },
  {
   "cell_type": "code",
   "execution_count": 65,
   "metadata": {},
   "outputs": [
    {
     "name": "stdout",
     "output_type": "stream",
     "text": [
      "I'm an animal!\n"
     ]
    }
   ],
   "source": [
    "animal = Animal()\n",
    "animal.sound()"
   ]
  },
  {
   "cell_type": "code",
   "execution_count": 66,
   "metadata": {},
   "outputs": [
    {
     "name": "stdout",
     "output_type": "stream",
     "text": [
      "Au au\n"
     ]
    }
   ],
   "source": [
    "cachorro = Cachorro()\n",
    "cachorro.sound()"
   ]
  },
  {
   "cell_type": "markdown",
   "metadata": {},
   "source": [
    "Tal estratégia de especializar comportamentos de acordo com cada subclasse é denominada polimorfismo (ad-hoc, uma vez que existem outros tipos de polimorfismo) e é utilizada com a ideia de fornecer uma interface (no caso, a assinatura do método) única com o qual diferentes tipos podem interagir.\n",
    "\n",
    "Contudo, dado que Python é uma linguagem de tipagem dinâmica, pouco importa o tipo do objeto passado como argumento. Seja `Animal` ou não, contanto que implemente o método desejado, podemos invocá-lo.\n",
    "\n",
    "Isso significa que o uso de herança continua sendo interessante para o compartilhamento de um código único entre diversas subclasses. Contudo, caso o código compartilhado seja apenas uma interface pública, podemos reconsiderar a implementação aproveitando do *duck typing*.\n",
    "\n",
    "Por outro lado, é fato que mesmo que um objeto satisfaça uma interface em particular, isso não significa que ele irá funcionar em todas as situações. Portanto, a escolha entre herança, polimorfismo e *duck typing* precisa ser bem pensada."
   ]
  },
  {
   "cell_type": "code",
   "execution_count": 29,
   "metadata": {},
   "outputs": [],
   "source": [
    "class Pato:\n",
    "    def sound(self):\n",
    "        print(\"Quack quack\")"
   ]
  },
  {
   "cell_type": "code",
   "execution_count": 30,
   "metadata": {},
   "outputs": [],
   "source": [
    "def make_sound(animal):\n",
    "    animal.sound()"
   ]
  },
  {
   "cell_type": "code",
   "execution_count": 31,
   "metadata": {},
   "outputs": [
    {
     "name": "stdout",
     "output_type": "stream",
     "text": [
      "Au au\n"
     ]
    }
   ],
   "source": [
    "make_sound(cachorro)"
   ]
  },
  {
   "cell_type": "code",
   "execution_count": 32,
   "metadata": {},
   "outputs": [
    {
     "name": "stdout",
     "output_type": "stream",
     "text": [
      "Quack quack\n"
     ]
    }
   ],
   "source": [
    "pato = Pato()\n",
    "make_sound(pato)"
   ]
  },
  {
   "cell_type": "markdown",
   "metadata": {},
   "source": [
    "### Classes Abstratas\n",
    "\n",
    "Embora o *duck typing* seja útil, nem sempre é fácil ou manutenível criar classes que contém todos os comportamentos necessários para o funcionameneto do código. Nesse contexto, podemos definir interfaces de forma mais rígida, que é o caso das classes base abstratas.\n",
    "\n",
    "Classes base abstratas (ou ABCs, do inglês Abstract Base Classes) são classes que definem um conjunto mínimo (e fundamental) de métodos e atributos que uma classe deve implementar. Com isso, podemos criar classes derivadas que possuem sua própria implementação de cada funcionalidade da classe abstrata base.\n",
    "\n",
    "> Note que a classe base não pode ser instanciada, uma vez que deve servir apenas como um modelo (template)\n",
    ">\n",
    "> Além disso, as classes derivadas **precisam** implementar todas as funcionalidades definidas na classe abstrata base. "
   ]
  },
  {
   "cell_type": "code",
   "execution_count": 40,
   "metadata": {},
   "outputs": [],
   "source": [
    "from abc import ABC, abstractmethod\n",
    "\n",
    "class Animal(ABC):\n",
    "    \n",
    "    def __init__(self, specie):\n",
    "        self.specie = specie\n",
    "    \n",
    "    @abstractmethod\n",
    "    def sound(self):\n",
    "        pass\n",
    "\n",
    "    \n",
    "class Cachorro(Animal):\n",
    "    \n",
    "    def __init__(self):\n",
    "        super().__init__('cachorro')\n",
    "\n",
    "    def sound(self):\n",
    "        print(\"Au au\")"
   ]
  },
  {
   "cell_type": "code",
   "execution_count": 41,
   "metadata": {},
   "outputs": [
    {
     "name": "stdout",
     "output_type": "stream",
     "text": [
      "Au au\n"
     ]
    }
   ],
   "source": [
    "cachorro = Cachorro()\n",
    "cachorro.sound()"
   ]
  },
  {
   "cell_type": "code",
   "execution_count": 42,
   "metadata": {},
   "outputs": [
    {
     "ename": "TypeError",
     "evalue": "Can't instantiate abstract class Animal with abstract method sound",
     "output_type": "error",
     "traceback": [
      "\u001b[0;31m---------------------------------------------------------------------------\u001b[0m",
      "\u001b[0;31mTypeError\u001b[0m                                 Traceback (most recent call last)",
      "Input \u001b[0;32mIn [42]\u001b[0m, in \u001b[0;36m<module>\u001b[0;34m\u001b[0m\n\u001b[1;32m      1\u001b[0m \u001b[38;5;66;03m# Note que a classe abstrata não pode ser instanciada\u001b[39;00m\n\u001b[1;32m      2\u001b[0m \u001b[38;5;66;03m#\u001b[39;00m\n\u001b[0;32m----> 3\u001b[0m animal \u001b[38;5;241m=\u001b[39m \u001b[43mAnimal\u001b[49m\u001b[43m(\u001b[49m\u001b[38;5;124;43m'\u001b[39;49m\u001b[38;5;124;43manimal\u001b[39;49m\u001b[38;5;124;43m'\u001b[39;49m\u001b[43m)\u001b[49m\n",
      "\u001b[0;31mTypeError\u001b[0m: Can't instantiate abstract class Animal with abstract method sound"
     ]
    }
   ],
   "source": [
    "# Note que a classe abstrata não pode ser instanciada\n",
    "#\n",
    "animal = Animal('animal')"
   ]
  },
  {
   "cell_type": "code",
   "execution_count": 45,
   "metadata": {},
   "outputs": [],
   "source": [
    "class Gato(Animal):\n",
    "\n",
    "    def __init__(self):\n",
    "        super().__init__('gato')"
   ]
  },
  {
   "cell_type": "code",
   "execution_count": 47,
   "metadata": {},
   "outputs": [
    {
     "ename": "TypeError",
     "evalue": "Can't instantiate abstract class Gato with abstract method sound",
     "output_type": "error",
     "traceback": [
      "\u001b[0;31m---------------------------------------------------------------------------\u001b[0m",
      "\u001b[0;31mTypeError\u001b[0m                                 Traceback (most recent call last)",
      "Input \u001b[0;32mIn [47]\u001b[0m, in \u001b[0;36m<module>\u001b[0;34m\u001b[0m\n\u001b[1;32m      1\u001b[0m \u001b[38;5;66;03m# Assim como não podemos instanciar uma classe\u001b[39;00m\n\u001b[1;32m      2\u001b[0m \u001b[38;5;66;03m# que não possui todos os métodos abstratos da classe base redefinidos\u001b[39;00m\n\u001b[1;32m      3\u001b[0m \u001b[38;5;66;03m#\u001b[39;00m\n\u001b[0;32m----> 4\u001b[0m gato \u001b[38;5;241m=\u001b[39m \u001b[43mGato\u001b[49m\u001b[43m(\u001b[49m\u001b[43m)\u001b[49m\n",
      "\u001b[0;31mTypeError\u001b[0m: Can't instantiate abstract class Gato with abstract method sound"
     ]
    }
   ],
   "source": [
    "# Assim como não podemos instanciar uma classe\n",
    "# que não possui todos os métodos abstratos da classe base redefinidos\n",
    "#\n",
    "gato = Gato()"
   ]
  },
  {
   "cell_type": "code",
   "execution_count": 48,
   "metadata": {},
   "outputs": [],
   "source": [
    "class Gato(Animal):\n",
    "\n",
    "    def __init__(self):\n",
    "        super().__init__('gato')\n",
    "    \n",
    "    def sound(self):\n",
    "        print(\"Miau miau\")"
   ]
  },
  {
   "cell_type": "code",
   "execution_count": 50,
   "metadata": {},
   "outputs": [
    {
     "name": "stdout",
     "output_type": "stream",
     "text": [
      "Miau miau\n"
     ]
    }
   ],
   "source": [
    "gato = Gato()\n",
    "gato.sound()"
   ]
  },
  {
   "cell_type": "markdown",
   "metadata": {},
   "source": [
    "Note ainda que, do ponto de vista sintático, não precisamos definir uma classe como sendo abstrata para definir métodos que são abstratos. Contudo, isso abre a possibilidade de subclasses não precisarem redefinir os métodos abstratos que, em teoria, é errado."
   ]
  },
  {
   "cell_type": "code",
   "execution_count": 58,
   "metadata": {},
   "outputs": [],
   "source": [
    "from abc import ABC, abstractmethod\n",
    "\n",
    "class Animal:\n",
    "    \n",
    "    def __init__(self, specie):\n",
    "        self.specie = specie\n",
    "    \n",
    "    @abstractmethod\n",
    "    def sound(self):\n",
    "        pass\n",
    "\n",
    "    \n",
    "class Cachorro(Animal):\n",
    "    \n",
    "    def __init__(self):\n",
    "        super().__init__('cachorro')\n",
    "\n",
    "    def sound(self):\n",
    "        print(\"Au au\")\n",
    "\n",
    "\n",
    "class Gato(Animal):\n",
    "\n",
    "    def __init__(self):\n",
    "        super().__init__('gato')"
   ]
  },
  {
   "cell_type": "code",
   "execution_count": 61,
   "metadata": {},
   "outputs": [],
   "source": [
    "cachorro = Cachorro()\n",
    "gato = Gato()\n",
    "\n",
    "gato.sound()"
   ]
  },
  {
   "cell_type": "markdown",
   "metadata": {},
   "source": [
    "## Composição\n",
    "\n",
    "A composição modela uma relação do tipo **\"composto de\"** (has a). Isto significa que a classe em questão é composta (ou seja, contém dados/atributos) pela combinação de diferentes objetos. No geral, chamamos essa instância que compõe a classe de _componente_."
   ]
  },
  {
   "cell_type": "code",
   "execution_count": 1,
   "metadata": {},
   "outputs": [],
   "source": [
    "class Motor:\n",
    "    pass\n",
    "\n",
    "\n",
    "class Carro:\n",
    "    \n",
    "    def __init__(self, cor, modelo, ano):\n",
    "        self.__cor = cor\n",
    "        self.__modelo = modelo\n",
    "        self.__ano = ano\n",
    "        self.__motor = Motor()"
   ]
  },
  {
   "cell_type": "markdown",
   "metadata": {},
   "source": [
    "## Exemplos"
   ]
  },
  {
   "cell_type": "markdown",
   "metadata": {},
   "source": [
    "## Conclusão\n",
    "\n",
    "### Herança\n",
    "Herança é um mecanismo que utilizamos para modelarmos situações de **\"isto é\"** (por exemplo, um cachorro é um Animal, um gato é um Animal) de forma que comportamentos padrões entre todas as subclasses de uma superclasse são herdados sem necessidade de reescrita de código (evitando assim duplicação). Ainda, também podemos tornar especícifico certos comportamentos para cada subclasse.\n",
    "\n",
    "> Logo, note que o foco do uso de herança está em: organização lógica das entidades e minimização de duplicidade de código.\n",
    "\n",
    "Além disso, a herança tem dois grandes problemas principais:\n",
    "\n",
    "#### Interface vs Implementanção\n",
    "\n",
    "Quando uma subclasse herda da superclasse, são herdadas tanto a interface (assinatura dos métodos, escrita e acesso a atributos) quanto a implementação (código contido nos métodos e que manipulam os atributos de fato). Porém, ao mesmo tempo que queremos reaproveitar o código herdado, também queremos definir múltiplas interfaces para lidar com diferentes situações.\n",
    "\n",
    "Na maioria das linguagens de programação, como Java, interfaces precisam ser declaradas explícitamente. Já em Python, devido a sua a natureza de tipagem dinâmica, o tipo do objeto pouco importa para a invocação de certos comportamentos. \n",
    "\n",
    "Tal conceito é conhecido como duck typing e nada mais é que um estilo de programação (possível em linguagens dinamicamente tipadas) onde: contanto que o objeto tenha o método a ser chamado, então podemos chamá-lo.\n",
    "\n",
    "> O termo *\"Duck typing\"* vem da expressão \"Se parece um pato e fala como um pato, então provavelmente é um pato\"\n",
    "\n",
    "```python\n",
    "class Animal:\n",
    "    def sound(self):\n",
    "        print(\"I'm an animal\")\n",
    "\n",
    "class Dog(Animal):\n",
    "    def sound(self):\n",
    "        print(\"I'm a dog\")\n",
    "\n",
    "class Duck:\n",
    "    def sound(self):\n",
    "        print(\"I'm a duck\")\n",
    "```\n",
    "\n",
    "Contudo, ainda assim podemos querer definir interfaces e, nesta situação, devemos utilizar classes base abstratas que não podem ser instanciadas e obrigam todos os métodos abstratos serem implementados nas subclasses.\n",
    "\n",
    "#### Explosão de Classes\n",
    "\n",
    "Um grande problema do uso de herança está na complexa hierarquia de classes que pode-se chegar enquanto o código é escrito e/ou pensado. Afinal, podemos nos encontrar em situação onde queremos criar uma nova (sub)classe pra cada variação existente. Esse é um \"design anti-pattern\" (algo como Anti Padrão de Projeto) que deve ser evitado a todo custo!\n",
    "\n",
    "Existem algumas estratégias que podem ser utilizadas para evitar, como é o caso de alguns design patterns ou o uso de composição\n",
    "\n",
    "### Composição\n",
    "\n",
    "Já a composição [...]\n"
   ]
  },
  {
   "cell_type": "markdown",
   "metadata": {},
   "source": [
    "## Apêndice\n",
    "\n",
    "Existe um \"princípio de programação\" (ou design patterns): \"Composição prevalece sobre Herança\""
   ]
  },
  {
   "cell_type": "code",
   "execution_count": null,
   "metadata": {},
   "outputs": [],
   "source": []
  }
 ],
 "metadata": {
  "kernelspec": {
   "display_name": "Python 3 (ipykernel)",
   "language": "python",
   "name": "python3"
  },
  "language_info": {
   "codemirror_mode": {
    "name": "ipython",
    "version": 3
   },
   "file_extension": ".py",
   "mimetype": "text/x-python",
   "name": "python",
   "nbconvert_exporter": "python",
   "pygments_lexer": "ipython3",
   "version": "3.9.7"
  },
  "toc": {
   "base_numbering": 1,
   "nav_menu": {},
   "number_sections": true,
   "sideBar": true,
   "skip_h1_title": true,
   "title_cell": "Sumário",
   "title_sidebar": "Sumário",
   "toc_cell": true,
   "toc_position": {},
   "toc_section_display": true,
   "toc_window_display": false
  },
  "toc-autonumbering": false,
  "toc-showmarkdowntxt": false,
  "varInspector": {
   "cols": {
    "lenName": 16,
    "lenType": 16,
    "lenVar": 40
   },
   "kernels_config": {
    "python": {
     "delete_cmd_postfix": "",
     "delete_cmd_prefix": "del ",
     "library": "var_list.py",
     "varRefreshCmd": "print(var_dic_list())"
    },
    "r": {
     "delete_cmd_postfix": ") ",
     "delete_cmd_prefix": "rm(",
     "library": "var_list.r",
     "varRefreshCmd": "cat(var_dic_list()) "
    }
   },
   "types_to_exclude": [
    "module",
    "function",
    "builtin_function_or_method",
    "instance",
    "_Feature"
   ],
   "window_display": false
  }
 },
 "nbformat": 4,
 "nbformat_minor": 4
}
