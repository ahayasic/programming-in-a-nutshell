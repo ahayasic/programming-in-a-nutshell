{
 "cells": [
  {
   "cell_type": "markdown",
   "metadata": {},
   "source": [
    "# Classes e Objetos em Python"
   ]
  },
  {
   "cell_type": "markdown",
   "metadata": {},
   "source": [
    "## Criando Classes\n",
    "\n",
    "Para criar uma classe em Python, basta usar a palavra `class` seguida do nome da classe"
   ]
  },
  {
   "cell_type": "code",
   "execution_count": 2,
   "metadata": {
    "ExecuteTime": {
     "end_time": "2020-11-29T19:48:36.288768Z",
     "start_time": "2020-11-29T19:48:36.280816Z"
    }
   },
   "outputs": [],
   "source": [
    "class Point:\n",
    "    pass"
   ]
  },
  {
   "cell_type": "markdown",
   "metadata": {},
   "source": [
    "### Adicionando Atributos\n",
    "\n",
    "Orientação à objetos é sobre entidades (objetos) que possuem dados (atributos) e ações (métodos) que, geralmente, trabalham sobre estes dados.\n",
    "\n",
    "Em Python, um atributo é qualquer variável criada dentro da classe através do parâmetro que representa o objeto, que geralmente chamamos de `self`. Um atributo pode receber qualquer objeto (literalmenmte, qualquer objeto).\n",
    "\n",
    "Uma vez criado, o atributo pode ser acessado por meio da notação de ponto, da forma `<object>.<attribute>`."
   ]
  },
  {
   "cell_type": "code",
   "execution_count": 1,
   "metadata": {},
   "outputs": [],
   "source": [
    "class Point:\n",
    "    # Informações sobre o método __init__ adiante\n",
    "    #\n",
    "    def __init__(self):\n",
    "        self.x = 0\n",
    "        self.y = 0"
   ]
  },
  {
   "cell_type": "code",
   "execution_count": 4,
   "metadata": {
    "ExecuteTime": {
     "end_time": "2020-11-29T20:02:02.448958Z",
     "start_time": "2020-11-29T20:02:02.436611Z"
    }
   },
   "outputs": [
    {
     "data": {
      "text/plain": [
       "(0, 0)"
      ]
     },
     "execution_count": 4,
     "metadata": {},
     "output_type": "execute_result"
    }
   ],
   "source": [
    "p = Point()\n",
    "p.x, p.y"
   ]
  },
  {
   "cell_type": "markdown",
   "metadata": {},
   "source": [
    "Alternativamente, também podemos usar a notação de ponto (`<object>.<attribute> = <value>`) para criar um novo atributo em um objeto instanciado."
   ]
  },
  {
   "cell_type": "code",
   "execution_count": 5,
   "metadata": {
    "ExecuteTime": {
     "end_time": "2020-11-29T20:02:09.579393Z",
     "start_time": "2020-11-29T20:02:09.569336Z"
    }
   },
   "outputs": [
    {
     "data": {
      "text/plain": [
       "(0, 0, 0)"
      ]
     },
     "execution_count": 5,
     "metadata": {},
     "output_type": "execute_result"
    }
   ],
   "source": [
    "p.z = 0\n",
    "\n",
    "p.x, p.y, p.z"
   ]
  },
  {
   "cell_type": "markdown",
   "metadata": {},
   "source": [
    "### Adicionando Métodos"
   ]
  },
  {
   "cell_type": "markdown",
   "metadata": {},
   "source": [
    "A única diferença entre os métodos regulares de uma classe e funções convencionais é que **todos os métodos possuem um argumento obrigatório**. Este argumento pode ser qualquer um, mas a convenção global é `self` (use a convenção!).\n",
    "\n",
    "O argumento `self` é uma **referência para o objeto pelo qual o método está sendo invocado**. Assim, podemos acessar qualquer atributo ou método do objeto através do `self` (note que ao invocarmos um método **através da instância de uma classe**, o Python passa o argumento `self` automaticamente)."
   ]
  },
  {
   "cell_type": "code",
   "execution_count": 2,
   "metadata": {
    "ExecuteTime": {
     "end_time": "2020-11-29T20:03:52.618651Z",
     "start_time": "2020-11-29T20:03:52.609504Z"
    }
   },
   "outputs": [],
   "source": [
    "class Point:\n",
    "    # Informações sobre o método __init__ adiante\n",
    "    #\n",
    "    def __init__(self):\n",
    "        self.x = 0\n",
    "        self.y = 0\n",
    "\n",
    "    def reset(self):\n",
    "        self.x = 0\n",
    "        self.y = 0"
   ]
  },
  {
   "cell_type": "code",
   "execution_count": 3,
   "metadata": {},
   "outputs": [
    {
     "data": {
      "text/plain": [
       "(3, 3)"
      ]
     },
     "execution_count": 3,
     "metadata": {},
     "output_type": "execute_result"
    }
   ],
   "source": [
    "p = Point()\n",
    "p.x = p.y = 3\n",
    "\n",
    "p.x, p.y"
   ]
  },
  {
   "cell_type": "code",
   "execution_count": 4,
   "metadata": {
    "ExecuteTime": {
     "end_time": "2020-11-29T20:03:57.314440Z",
     "start_time": "2020-11-29T20:03:57.308387Z"
    }
   },
   "outputs": [
    {
     "data": {
      "text/plain": [
       "(0, 0)"
      ]
     },
     "execution_count": 4,
     "metadata": {},
     "output_type": "execute_result"
    }
   ],
   "source": [
    "p.reset()\n",
    "p.x, p.y"
   ]
  },
  {
   "cell_type": "markdown",
   "metadata": {},
   "source": [
    "Perceba também que como temos a referência para o objeto, podemos fazer a chamada dos métodos a partir da classe (e não somente a partir objeto)."
   ]
  },
  {
   "cell_type": "code",
   "execution_count": 5,
   "metadata": {},
   "outputs": [
    {
     "data": {
      "text/plain": [
       "(0, 0)"
      ]
     },
     "execution_count": 5,
     "metadata": {},
     "output_type": "execute_result"
    }
   ],
   "source": [
    "p = Point()\n",
    "Point.reset(p)\n",
    "\n",
    "p.x, p.y"
   ]
  },
  {
   "cell_type": "markdown",
   "metadata": {
    "ExecuteTime": {
     "end_time": "2020-11-29T20:05:52.033272Z",
     "start_time": "2020-11-29T20:05:52.024988Z"
    }
   },
   "source": [
    "Se não declararmos o argumento obrigatório no nosso método, recebemos uma mensagem de erro indicando a falta de um argumento ao criarmos um objeto"
   ]
  },
  {
   "cell_type": "code",
   "execution_count": 6,
   "metadata": {},
   "outputs": [],
   "source": [
    "class Point:\n",
    "    # Informações sobre o método __init__ adiante\n",
    "    def __init__():\n",
    "        self.x = 0\n",
    "        self.y = 0"
   ]
  },
  {
   "cell_type": "code",
   "execution_count": 7,
   "metadata": {},
   "outputs": [
    {
     "ename": "TypeError",
     "evalue": "__init__() takes 0 positional arguments but 1 was given",
     "output_type": "error",
     "traceback": [
      "\u001b[0;31m---------------------------------------------------------------------------\u001b[0m",
      "\u001b[0;31mTypeError\u001b[0m                                 Traceback (most recent call last)",
      "Input \u001b[0;32mIn [7]\u001b[0m, in \u001b[0;36m<module>\u001b[0;34m\u001b[0m\n\u001b[0;32m----> 1\u001b[0m p \u001b[38;5;241m=\u001b[39m \u001b[43mPoint\u001b[49m\u001b[43m(\u001b[49m\u001b[43m)\u001b[49m\n",
      "\u001b[0;31mTypeError\u001b[0m: __init__() takes 0 positional arguments but 1 was given"
     ]
    }
   ],
   "source": [
    "p = Point()"
   ]
  },
  {
   "cell_type": "markdown",
   "metadata": {},
   "source": [
    "### Inicializando Objetos\n",
    "O modo mais comum de se definir os atributos de um objeto é através de um construtor. Um construtor é um método especial executado sempre que um objeto é criado.\n",
    "\n",
    "Em Python, há (na verdade) um construtor e um inicializador. Porém, o construtor é raramente utilizado. Assim, utilizamos o inicializador para definirmos todos os atributos da classe.\n",
    "\n",
    "Assim como o construtor, o inicializador é sempre executado quando um objeto é criado e funciona da mesma forma que qualquer outro método. A única diferença está em seu nome, que deve ser `__init__`. Esta nomeação faz com que o interpretador do Python reconheça que `__init__` é o inicializador da classe."
   ]
  },
  {
   "cell_type": "code",
   "execution_count": 12,
   "metadata": {
    "ExecuteTime": {
     "end_time": "2020-11-29T20:11:03.581555Z",
     "start_time": "2020-11-29T20:11:03.577629Z"
    }
   },
   "outputs": [],
   "source": [
    "class Point:\n",
    "    def __init__(self, x=0, y=0):\n",
    "        self.move(x, y)\n",
    "    \n",
    "    def move(self, x, y):\n",
    "        self.x = x\n",
    "        self.y = y\n",
    "    \n",
    "    def reset(self):\n",
    "        self.move(0, 0)"
   ]
  },
  {
   "cell_type": "code",
   "execution_count": 13,
   "metadata": {
    "ExecuteTime": {
     "end_time": "2020-11-29T20:11:10.357217Z",
     "start_time": "2020-11-29T20:11:10.347427Z"
    }
   },
   "outputs": [
    {
     "data": {
      "text/plain": [
       "(0, 0)"
      ]
     },
     "execution_count": 13,
     "metadata": {},
     "output_type": "execute_result"
    }
   ],
   "source": [
    "p = Point(0, 0)\n",
    "p.x, p.y"
   ]
  },
  {
   "cell_type": "code",
   "execution_count": 14,
   "metadata": {},
   "outputs": [
    {
     "data": {
      "text/plain": [
       "(3, 5)"
      ]
     },
     "execution_count": 14,
     "metadata": {},
     "output_type": "execute_result"
    }
   ],
   "source": [
    "p = Point(3, 5)\n",
    "p.x, p.y"
   ]
  },
  {
   "cell_type": "markdown",
   "metadata": {},
   "source": [
    "> *Most of the time, we put our initialization statements in an `__init__` function. But as mentioned earlier, Python has a constructor in addition to its initialization function. You may never need to use the other Python constructor, but it helps to know it exists, so we'll cover it briefly. The constructor function is called `__new__` as opposed to `__init__` , and accepts exactly one argument; the class that is being constructed (it is called before the object is constructed, so there is no self argument). It also has to return the newly created object. This has interesting possibilities when it comes to the complicated art of metaprogramming, but is not very useful in day-to-day programming. In practice, you will rarely, if ever, need to use `__new__` and `__init__` will be sufficient.*"
   ]
  },
  {
   "cell_type": "markdown",
   "metadata": {},
   "source": [
    "## Interface Privada\n",
    "\n",
    "A grande maioria das linguagens orientadas à objetos possuem algum mecanismo de *controle de acesso* aos métodos e atributos. Com isso, é possível marcar (e.g.) atributos como sendo:\n",
    "- **Privados**. Apenas o próprio objeto pode acessá-lo.\n",
    "- **Protegidos**. Apenas a classe e subclasses do objeto podem acessar seus atributos e métodos.\n",
    "\n",
    "O controle de acesso é interessante principalmente para:\n",
    "\n",
    "- **Encapsulamento de atributos.** Assim, **quando o acesso ou atribuição de um atributo é complexo**, podemos abstrair tal complexidade em métodos de *setting* e *getting* que devem ser utilizados para acessar ou definir o valor de um atributo.\n",
    "\n",
    "Quanto aos métodos, torná-los privados significa **removê-los da interface principal** que o usuário usa para interagir com o objeto."
   ]
  },
  {
   "cell_type": "code",
   "execution_count": 8,
   "metadata": {},
   "outputs": [],
   "source": [
    "class Person:\n",
    "    \n",
    "    def __init__(self, weight, height):\n",
    "        self.set_weight(weight)\n",
    "        self.set_height(height)\n",
    "    \n",
    "    def set_weight(self, weight):\n",
    "        if weight < 0:\n",
    "            raise ValueError(\"Weight cannot be lower than 0\")\n",
    "        self.weight = weight\n",
    "    \n",
    "    def set_height(self, height):\n",
    "        if height < 0:\n",
    "            raise ValueError(\"Height cannot be lower than 0\")\n",
    "        self.height = height"
   ]
  },
  {
   "cell_type": "code",
   "execution_count": 9,
   "metadata": {},
   "outputs": [
    {
     "ename": "ValueError",
     "evalue": "Weight cannot be lower than 0",
     "output_type": "error",
     "traceback": [
      "\u001b[0;31m---------------------------------------------------------------------------\u001b[0m",
      "\u001b[0;31mValueError\u001b[0m                                Traceback (most recent call last)",
      "Input \u001b[0;32mIn [9]\u001b[0m, in \u001b[0;36m<module>\u001b[0;34m\u001b[0m\n\u001b[0;32m----> 1\u001b[0m p \u001b[38;5;241m=\u001b[39m \u001b[43mPerson\u001b[49m\u001b[43m(\u001b[49m\u001b[38;5;241;43m-\u001b[39;49m\u001b[38;5;241;43m1\u001b[39;49m\u001b[43m,\u001b[49m\u001b[43m \u001b[49m\u001b[38;5;241;43m-\u001b[39;49m\u001b[38;5;241;43m1\u001b[39;49m\u001b[43m)\u001b[49m\n",
      "Input \u001b[0;32mIn [8]\u001b[0m, in \u001b[0;36mPerson.__init__\u001b[0;34m(self, weight, height)\u001b[0m\n\u001b[1;32m      3\u001b[0m \u001b[38;5;28;01mdef\u001b[39;00m \u001b[38;5;21m__init__\u001b[39m(\u001b[38;5;28mself\u001b[39m, weight, height):\n\u001b[0;32m----> 4\u001b[0m     \u001b[38;5;28;43mself\u001b[39;49m\u001b[38;5;241;43m.\u001b[39;49m\u001b[43mset_weight\u001b[49m\u001b[43m(\u001b[49m\u001b[43mweight\u001b[49m\u001b[43m)\u001b[49m\n\u001b[1;32m      5\u001b[0m     \u001b[38;5;28mself\u001b[39m\u001b[38;5;241m.\u001b[39mset_height(height)\n",
      "Input \u001b[0;32mIn [8]\u001b[0m, in \u001b[0;36mPerson.set_weight\u001b[0;34m(self, weight)\u001b[0m\n\u001b[1;32m      7\u001b[0m \u001b[38;5;28;01mdef\u001b[39;00m \u001b[38;5;21mset_weight\u001b[39m(\u001b[38;5;28mself\u001b[39m, weight):\n\u001b[1;32m      8\u001b[0m     \u001b[38;5;28;01mif\u001b[39;00m weight \u001b[38;5;241m<\u001b[39m \u001b[38;5;241m0\u001b[39m:\n\u001b[0;32m----> 9\u001b[0m         \u001b[38;5;28;01mraise\u001b[39;00m \u001b[38;5;167;01mValueError\u001b[39;00m(\u001b[38;5;124m\"\u001b[39m\u001b[38;5;124mWeight cannot be lower than 0\u001b[39m\u001b[38;5;124m\"\u001b[39m)\n\u001b[1;32m     10\u001b[0m     \u001b[38;5;28mself\u001b[39m\u001b[38;5;241m.\u001b[39mweight \u001b[38;5;241m=\u001b[39m weight\n",
      "\u001b[0;31mValueError\u001b[0m: Weight cannot be lower than 0"
     ]
    }
   ],
   "source": [
    "p = Person(-1, -1)"
   ]
  },
  {
   "cell_type": "code",
   "execution_count": 10,
   "metadata": {},
   "outputs": [
    {
     "data": {
      "text/plain": [
       "(190, 90)"
      ]
     },
     "execution_count": 10,
     "metadata": {},
     "output_type": "execute_result"
    }
   ],
   "source": [
    "p = Person(190, 90)\n",
    "p.weight, p.height"
   ]
  },
  {
   "cell_type": "markdown",
   "metadata": {},
   "source": [
    "O Python não possui um mecanismo de controle de acesso padrão. Tecnicamente, todos os métodos e atributos de uma classe são públicos.\n",
    "\n",
    "Porém, há algumas convenções que podemos utilizar para marcar-los como **internos** (ou seja, como algo encapsulado no objeto e que não deve ser acessado diretamente)."
   ]
  },
  {
   "cell_type": "markdown",
   "metadata": {},
   "source": [
    "### Underscores\n",
    "\n",
    "A forma mais comum de marcarmos atributos e métodos como internos é através de *underscores* (`_`). Com isso, estamos deixando claro que o atributo em questão é interno e, portanto, não deve ser acessado diretamente.\n",
    "\n",
    "- Note que isto é apenas uma convenção e que o usuário ainda pode acessá-lo, caso queira.\n",
    "\n",
    "Alternativamente, podemos prefixar o atributo com dois *underscores* (`__`). Assim, estamos:\n",
    "- Recomendando fortemente para que o atributo não seja acessado diretamente\n",
    "- Dificultando o acesso ao atributo, uma vez que o interpreteador do Python executará um processo denominado \"name mangling\" em todo atributo que comece com dois *underscore*\n",
    "\n",
    "> O processo de *\"name mangling\"* é um processo onde qualquer identificador com dois *underscore* de prefixo ou um *underscore* de sufixo é textualmente substituído por `_className__identifier`, onde `_className` é o nome da classe corrente (ao qual o identificador pertence)"
   ]
  },
  {
   "cell_type": "code",
   "execution_count": 11,
   "metadata": {
    "ExecuteTime": {
     "end_time": "2020-11-29T20:20:40.709889Z",
     "start_time": "2020-11-29T20:20:40.705703Z"
    }
   },
   "outputs": [],
   "source": [
    "class SecretContent:\n",
    "\n",
    "    def __init__(self, password, content):\n",
    "        self.__password = password\n",
    "        self.__content = content\n",
    "    \n",
    "    def show_content(self, password):\n",
    "        if password == self.__password:\n",
    "            return self.__content\n",
    "        else:\n",
    "            return 'Invalid password'"
   ]
  },
  {
   "cell_type": "code",
   "execution_count": 13,
   "metadata": {
    "ExecuteTime": {
     "end_time": "2020-11-29T20:20:53.626082Z",
     "start_time": "2020-11-29T20:20:53.619103Z"
    }
   },
   "outputs": [
    {
     "data": {
      "text/plain": [
       "'This is awesome!'"
      ]
     },
     "execution_count": 13,
     "metadata": {},
     "output_type": "execute_result"
    }
   ],
   "source": [
    "content = SecretContent(\"mypassword\", \"This is awesome!\")\n",
    "content.show_content(\"mypassword\")"
   ]
  },
  {
   "cell_type": "code",
   "execution_count": 14,
   "metadata": {
    "ExecuteTime": {
     "end_time": "2020-11-29T20:21:01.037581Z",
     "start_time": "2020-11-29T20:21:00.982491Z"
    }
   },
   "outputs": [
    {
     "ename": "AttributeError",
     "evalue": "'SecretContent' object has no attribute '__content'",
     "output_type": "error",
     "traceback": [
      "\u001b[0;31m---------------------------------------------------------------------------\u001b[0m",
      "\u001b[0;31mAttributeError\u001b[0m                            Traceback (most recent call last)",
      "Input \u001b[0;32mIn [14]\u001b[0m, in \u001b[0;36m<module>\u001b[0;34m\u001b[0m\n\u001b[1;32m      1\u001b[0m \u001b[38;5;66;03m# Note que não é possível acessar o atributo diretamente através da notação de ponto\u001b[39;00m\n\u001b[1;32m      2\u001b[0m \u001b[38;5;66;03m#\u001b[39;00m\n\u001b[0;32m----> 3\u001b[0m \u001b[43mcontent\u001b[49m\u001b[38;5;241;43m.\u001b[39;49m\u001b[43m__content\u001b[49m\n",
      "\u001b[0;31mAttributeError\u001b[0m: 'SecretContent' object has no attribute '__content'"
     ]
    }
   ],
   "source": [
    "# Note que não é possível acessar o atributo diretamente através da notação de ponto\n",
    "#\n",
    "content.__content"
   ]
  },
  {
   "cell_type": "code",
   "execution_count": 15,
   "metadata": {
    "ExecuteTime": {
     "end_time": "2020-11-29T20:21:21.650426Z",
     "start_time": "2020-11-29T20:21:21.640264Z"
    }
   },
   "outputs": [
    {
     "data": {
      "text/plain": [
       "'This is awesome!'"
      ]
     },
     "execution_count": 15,
     "metadata": {},
     "output_type": "execute_result"
    }
   ],
   "source": [
    "# Porém, ainda podemos acessar o atributo através do nome resultante do processo de \"name mangling\"\n",
    "#\n",
    "content._SecretContent__content"
   ]
  },
  {
   "cell_type": "markdown",
   "metadata": {},
   "source": [
    "### Properties\n",
    "\n",
    "Uma segunda e mais robusta forma de definir atributos de instância (objeto) e classe é através da função `property` (esta estratégia funciona apenas para atributos!). \n",
    "\n",
    "Com `property` podemos\n",
    "\n",
    "- Definir atributos que podem ser acessados diretamente (através da notação de ponto)\n",
    "- (Ao mesmo tempo em que) estão encapsulados em alguma interface (i.e. em métodos de *setting* e *getting*).\n",
    "\n",
    "Podemos pensar na função `property` como uma função que:\n",
    "- Retorna um objeto cujo objetivo é **\"proxear\"** qualquer requisição de atribuição ou acesso ao atributo definido como property para o método correspondente (que especificarmos).\n",
    "\n",
    "A sintaxe da `property` é:\n",
    "\n",
    "```python\n",
    "property(fget=None, fset=None, fdel=None, doc=None)\n",
    "```\n",
    "\n",
    "onde,\n",
    "\n",
    "- `fget` é a função que acessa o atributo\n",
    "- `fset` é a função que atribui um valor ao atributo\n",
    "- `fdel` é a função que deleta o atributo\n",
    "- `doc` é uma string que representa a documentação do atributo.\n",
    "\n",
    "Todos estes parâmetros são opcionais. Contudo, utilizarmos *properties* com o objetivo de pelo menos definir uma função de acesso.\n",
    "\n",
    "> Note que mesmo com o uso de `property`, ainda é possível acessar e modificar os atributos via *name mangling*"
   ]
  },
  {
   "cell_type": "code",
   "execution_count": 148,
   "metadata": {},
   "outputs": [],
   "source": [
    "class Dog:\n",
    "    \n",
    "    def __init__(self, name, breed):\n",
    "        self.name = name\n",
    "        self._set_breed(breed)\n",
    "    \n",
    "    def _get_breed(self):\n",
    "        return self.__breed\n",
    "    \n",
    "    def _set_breed(self, breed):\n",
    "        if breed is None:\n",
    "            raise Exception('Invalid breed')\n",
    "        self.__breed = breed\n",
    "\n",
    "    breed = property(_get_breed, _set_breed)"
   ]
  },
  {
   "cell_type": "code",
   "execution_count": 149,
   "metadata": {},
   "outputs": [
    {
     "data": {
      "text/plain": [
       "'Buldogue'"
      ]
     },
     "execution_count": 149,
     "metadata": {},
     "output_type": "execute_result"
    }
   ],
   "source": [
    "my_dog = Dog(\"Jack\", \"Buldogue\")\n",
    "my_dog.breed"
   ]
  },
  {
   "cell_type": "markdown",
   "metadata": {},
   "source": [
    "#### Decorador `@property`\n",
    "\n",
    "A forma mais comum de usarmos a função `property` é um decorador para os métodos de *set* e *get*, tornando a sintaxe mais simples e menos poluída.\n",
    "\n",
    "Para isso, basta decorarmos o método *getter* com `@property`, seguido do método cujo nome deve ser o mesmo do atributo. No caso de *setter*, basta utilizar a sintaxe `@<attribute>.setter / def <attribute>`"
   ]
  },
  {
   "cell_type": "code",
   "execution_count": 147,
   "metadata": {},
   "outputs": [],
   "source": [
    "class Dog:\n",
    "    \n",
    "    def __init__(self, name, breed):\n",
    "        self.name = name\n",
    "        self.breed = breed\n",
    "    \n",
    "    @property\n",
    "    def breed(self):\n",
    "        return self.__breed\n",
    "    \n",
    "    @breed.setter\n",
    "    def breed(self, breed):\n",
    "        if breed is None:\n",
    "            raise Exception(\"Invalid breed\")\n",
    "        self.__breed = breed"
   ]
  },
  {
   "cell_type": "code",
   "execution_count": 86,
   "metadata": {},
   "outputs": [],
   "source": [
    "my_dog = Dog(\"Jack\", \"Buldogue\")"
   ]
  },
  {
   "cell_type": "markdown",
   "metadata": {},
   "source": [
    "## Atributos e Métodos de Classe\n",
    "\n",
    "Sabendo que objetos são instâncias que uma classe, pode haver situações em que os elementos da classe não são dependentes (i.e. estão relacionados) à instância da classe, mas apenas à classe em si.\n",
    "\n",
    "Neste caso onde os elementos são os mesmos para qualquer instância da classe, o atributo e/ou método são denominados *da classe*."
   ]
  },
  {
   "cell_type": "markdown",
   "metadata": {},
   "source": [
    "### Atributos da Classe\n",
    "\n",
    "Um atributo de classe é um dado comum à todas as instâncias desta classe. Por exemplo, toda instância da classe `Person` é uma pessoa da espécie `'Homo sapiens'`. Portanto, é natural que este dado seja comum entre todas as instâncias da classe `Person`.\n",
    "\n",
    "No Python, qualquer variável declarada fora do inicializador ou métodos é uma variável da classe. Logo, um atributo da classe."
   ]
  },
  {
   "cell_type": "code",
   "execution_count": 150,
   "metadata": {},
   "outputs": [],
   "source": [
    "class Person:\n",
    "    specie = 'Homo sapiens'\n",
    "    \n",
    "    def __init__(self, name, age):\n",
    "        self.name = name\n",
    "        self.age = age"
   ]
  },
  {
   "cell_type": "code",
   "execution_count": 151,
   "metadata": {},
   "outputs": [],
   "source": [
    "luffy = Person('Luffy', 19)\n",
    "sanji = Person('Sanji', 21)"
   ]
  },
  {
   "cell_type": "code",
   "execution_count": 153,
   "metadata": {},
   "outputs": [
    {
     "data": {
      "text/plain": [
       "('Homo sapiens', 'Homo sapiens', 'Homo sapiens')"
      ]
     },
     "execution_count": 153,
     "metadata": {},
     "output_type": "execute_result"
    }
   ],
   "source": [
    "luffy.specie, sanji.specie, Person.specie"
   ]
  },
  {
   "cell_type": "markdown",
   "metadata": {},
   "source": [
    "#### Leitura e Escrita de Variáveis de Classe\n",
    "\n",
    "Frequentemente utilizamos atributos de classe para organizar um dado comum a todas as instâncias de forma que todas possam lê-las. Porém, a escrita nessa variável de classe pode afetar apenas uma única instância ou a classe como um todo.\n",
    "\n",
    "Tomando como exemplo uma classe `Empregado`, que recebe uma comissao de pagamento no mês:\n",
    "\n",
    "- Note que ambos possuem a mesma taxa de comissão\n",
    "- Porém, ao usar `self` para ler ou escrever a comissão, estamos na verdade nos referindo ao dado no contexto da instância"
   ]
  },
  {
   "cell_type": "code",
   "execution_count": 154,
   "metadata": {},
   "outputs": [],
   "source": [
    "class Empregado:\n",
    "    comissao = 1.03\n",
    "    \n",
    "    def __init__(self, nome, salario):\n",
    "        self.nome = nome\n",
    "        self.salario = salario\n",
    "        \n",
    "    def aplicar_comissao(self):\n",
    "        return self.salario * Empregado.comissao"
   ]
  },
  {
   "cell_type": "code",
   "execution_count": 163,
   "metadata": {},
   "outputs": [],
   "source": [
    "emp1 = Empregado('Luffy', 1000)\n",
    "emp2 = Empregado('Zoro', 1000)"
   ]
  },
  {
   "cell_type": "code",
   "execution_count": 157,
   "metadata": {},
   "outputs": [
    {
     "data": {
      "text/plain": [
       "(1.03, 1.03, 1.03)"
      ]
     },
     "execution_count": 157,
     "metadata": {},
     "output_type": "execute_result"
    }
   ],
   "source": [
    "emp1.comissao, emp2.comissao, Empregado.comissao"
   ]
  },
  {
   "cell_type": "code",
   "execution_count": 158,
   "metadata": {},
   "outputs": [
    {
     "data": {
      "text/plain": [
       "(1.07, 1.03, 1.03)"
      ]
     },
     "execution_count": 158,
     "metadata": {},
     "output_type": "execute_result"
    }
   ],
   "source": [
    "emp1.comissao = 1.07\n",
    "emp1.comissao, emp2.comissao, Empregado.comissao"
   ]
  },
  {
   "cell_type": "markdown",
   "metadata": {},
   "source": [
    "Isso acontece pois sempre que fazemos uma operação sobre uma variável de classe através de `self`, o interpretador do Python vai buscá-la no contexto do objeto e, caso não encontre, buscará no contexto da classe. Assim, caso executemos uma operação de escrita, o Python vai fazer uma cópia da variável de classe para o contexto do objeto e então escrevê-la.\n",
    "\n",
    "Já ler ou escrever através da referência da classe é algo que impacta todas as instâncias desta classe."
   ]
  },
  {
   "cell_type": "code",
   "execution_count": 159,
   "metadata": {},
   "outputs": [
    {
     "data": {
      "text/plain": [
       "{'nome': 'Joao', 'salario': 1000, 'comissao': 1.07}"
      ]
     },
     "execution_count": 159,
     "metadata": {},
     "output_type": "execute_result"
    }
   ],
   "source": [
    "emp1.__dict__"
   ]
  },
  {
   "cell_type": "code",
   "execution_count": 160,
   "metadata": {},
   "outputs": [
    {
     "data": {
      "text/plain": [
       "{'nome': 'Paulo', 'salario': 1000}"
      ]
     },
     "execution_count": 160,
     "metadata": {},
     "output_type": "execute_result"
    }
   ],
   "source": [
    "emp2.__dict__"
   ]
  },
  {
   "cell_type": "code",
   "execution_count": 161,
   "metadata": {},
   "outputs": [
    {
     "data": {
      "text/plain": [
       "mappingproxy({'__module__': '__main__',\n",
       "              'comissao': 1.03,\n",
       "              '__init__': <function __main__.Empregado.__init__(self, nome, salario)>,\n",
       "              'aplicar_comissao': <function __main__.Empregado.aplicar_comissao(self)>,\n",
       "              '__dict__': <attribute '__dict__' of 'Empregado' objects>,\n",
       "              '__weakref__': <attribute '__weakref__' of 'Empregado' objects>,\n",
       "              '__doc__': None})"
      ]
     },
     "execution_count": 161,
     "metadata": {},
     "output_type": "execute_result"
    }
   ],
   "source": [
    "Empregado.__dict__"
   ]
  },
  {
   "cell_type": "markdown",
   "metadata": {},
   "source": [
    "Tal funcionalidade é importante pois nos permite **definir comportamentos especificos a estes dados comuns a um objeto sem impactar os demais**."
   ]
  },
  {
   "cell_type": "code",
   "execution_count": 173,
   "metadata": {},
   "outputs": [],
   "source": [
    "class Empregado:\n",
    "    comissao = 1.03\n",
    "    \n",
    "    def __init__(self, nome, salario):\n",
    "        self.nome = nome\n",
    "        self.salario = salario\n",
    "        \n",
    "    def comissao_pessoal(self):\n",
    "        return self.comissao\n",
    "    \n",
    "    def comissao_real(self):\n",
    "        return Empregado.comissao\n",
    "    \n",
    "    def atualizar_comissao(self):\n",
    "        Empregado.comissao = 1.1"
   ]
  },
  {
   "cell_type": "code",
   "execution_count": 174,
   "metadata": {},
   "outputs": [],
   "source": [
    "emp1 = Empregado('Zoro', 1000)\n",
    "emp2 = Empregado('Sanji', 1000)"
   ]
  },
  {
   "cell_type": "code",
   "execution_count": 177,
   "metadata": {},
   "outputs": [
    {
     "name": "stdout",
     "output_type": "stream",
     "text": [
      "Classe Empregado 1.03\n",
      "Objeto Emp1\t 1.03 1.03\n",
      "Objeto Emp2\t 1.03 1.03\n"
     ]
    }
   ],
   "source": [
    "print('Classe Empregado', Empregado.comissao)\n",
    "print('Objeto Emp1\\t', emp1.comissao_real(), emp1.comissao_pessoal())\n",
    "print('Objeto Emp2\\t', emp2.comissao_real(), emp2.comissao_pessoal())"
   ]
  },
  {
   "cell_type": "code",
   "execution_count": 178,
   "metadata": {},
   "outputs": [
    {
     "name": "stdout",
     "output_type": "stream",
     "text": [
      "Classe Empregado 1.03\n",
      "Objeto Emp1\t 1.03 1.05\n",
      "Objeto Emp2\t 1.03 1.03\n"
     ]
    }
   ],
   "source": [
    "emp1.comissao = 1.05\n",
    "\n",
    "print('Classe Empregado', Empregado.comissao)\n",
    "print('Objeto Emp1\\t', emp1.comissao_real(), emp1.comissao_pessoal())\n",
    "print('Objeto Emp2\\t', emp2.comissao_real(), emp2.comissao_pessoal())"
   ]
  },
  {
   "cell_type": "code",
   "execution_count": 185,
   "metadata": {},
   "outputs": [
    {
     "name": "stdout",
     "output_type": "stream",
     "text": [
      "Classe Empregado 1.1\n",
      "Objeto Emp1\t 1.1 1.05\n",
      "Objeto Emp2\t 1.1 1.1\n"
     ]
    }
   ],
   "source": [
    "emp2.atualizar_comissao()\n",
    "\n",
    "print('Classe Empregado', Empregado.comissao)\n",
    "print('Objeto Emp1\\t', emp1.comissao_real(), emp1.comissao_pessoal())\n",
    "print('Objeto Emp2\\t', emp2.comissao_real(), emp2.comissao_pessoal())"
   ]
  },
  {
   "cell_type": "code",
   "execution_count": 186,
   "metadata": {},
   "outputs": [
    {
     "name": "stdout",
     "output_type": "stream",
     "text": [
      "Classe Empregado 1.1\n",
      "Objeto Emp1\t 1.1 1.05\n",
      "Objeto Emp2\t 1.1 1.1\n",
      "Objeto Emp3\t 1.1 1.1\n"
     ]
    }
   ],
   "source": [
    "emp3 = Empregado('Luffy', 1000)\n",
    "\n",
    "print('Classe Empregado', Empregado.comissao)\n",
    "print('Objeto Emp1\\t', emp1.comissao_real(), emp1.comissao_pessoal())\n",
    "print('Objeto Emp2\\t', emp2.comissao_real(), emp2.comissao_pessoal())\n",
    "print('Objeto Emp3\\t', emp3.comissao_real(), emp3.comissao_pessoal())"
   ]
  },
  {
   "cell_type": "markdown",
   "metadata": {},
   "source": [
    "Por fim, note que podemos escrever em variáveis de classe **em qualquer ponto do código** (ou seja, podemos ter uma classe totalmente não relacionada com `Empregado` que pode fazer uma chamada do tipo `Empregado.comissao = 10`)"
   ]
  },
  {
   "cell_type": "markdown",
   "metadata": {},
   "source": [
    "### Métodos de Classe\n",
    "\n",
    "Assim como temos atributos de classe, também podemos ter métodos de classe.\n",
    "\n",
    "A sintaxe para a a criação de um método de classe é bem parecida com a sintaxe para métodos regulares. A diferença está no uso do decorador `@classmethod` e o nome convecionado da variável passado como primeiro argumento. Enquanto nos métodos regulares usamos `self` para nos referirmos ao primeiro argumento (que é o objeto, quando chamamos o método através do objeto), em métodos de classe usamos `cls` que, no caso, refere-se a classe que é passada como parâmetro"
   ]
  },
  {
   "cell_type": "code",
   "execution_count": 220,
   "metadata": {},
   "outputs": [],
   "source": [
    "class Empregado:\n",
    "    comissao = 1.03\n",
    "    \n",
    "    def __init__(self, nome, salario):\n",
    "        self.nome = nome\n",
    "        self.salario = salario\n",
    "        \n",
    "    @classmethod\n",
    "    def set_comissao(cls, comissao):\n",
    "        cls.comissao = comissao"
   ]
  },
  {
   "cell_type": "code",
   "execution_count": 222,
   "metadata": {},
   "outputs": [
    {
     "data": {
      "text/plain": [
       "(1.03, 1.03, 1.03)"
      ]
     },
     "execution_count": 222,
     "metadata": {},
     "output_type": "execute_result"
    }
   ],
   "source": [
    "emp1 = Empregado('Zoro', 1000)\n",
    "emp2 = Empregado('Sanji', 1000)\n",
    "\n",
    "emp1.comissao, emp2.comissao, Empregado.comissao"
   ]
  },
  {
   "cell_type": "code",
   "execution_count": 224,
   "metadata": {},
   "outputs": [
    {
     "data": {
      "text/plain": [
       "(1.15, 1.15, 1.15)"
      ]
     },
     "execution_count": 224,
     "metadata": {},
     "output_type": "execute_result"
    }
   ],
   "source": [
    "Empregado.set_comissao(1.15)\n",
    "\n",
    "emp1.comissao, emp2.comissao, Empregado.comissao"
   ]
  },
  {
   "cell_type": "markdown",
   "metadata": {},
   "source": [
    "Embora também podemos fazer uma chamada de método de classe através da um objeto, não faz muito sentido semântico (interpretativo). Afinal, é uma operação sobre a classe em si (e, provavelmente, dados da classe) e não instâncias da classe."
   ]
  },
  {
   "cell_type": "markdown",
   "metadata": {},
   "source": [
    "O principal uso de métodos de classe é para a criação de \"construtores alternativos\". Ou seja, possibilitar a criação de objetos através da passagem de diferentes parâmetros.\n",
    "\n",
    "> Veja o módulo `datetime` caso queira ver uma aplicação de tal conceito \"no mundo-real\" :grin:"
   ]
  },
  {
   "cell_type": "code",
   "execution_count": 225,
   "metadata": {},
   "outputs": [],
   "source": [
    "class Empregado:\n",
    "    comissao = 1.03\n",
    "    \n",
    "    def __init__(self, nome, salario):\n",
    "        self.nome = nome\n",
    "        self.salario = salario\n",
    "        \n",
    "    @classmethod\n",
    "    def set_comissao(cls, comissao):\n",
    "        cls.comissao = comissao\n",
    "    \n",
    "    @classmethod\n",
    "    def from_string(cls, string):\n",
    "        nome, salario = string.split('-')\n",
    "        return cls(nome, salario)"
   ]
  },
  {
   "cell_type": "code",
   "execution_count": 226,
   "metadata": {},
   "outputs": [
    {
     "data": {
      "text/plain": [
       "('luffy', '1000')"
      ]
     },
     "execution_count": 226,
     "metadata": {},
     "output_type": "execute_result"
    }
   ],
   "source": [
    "string = 'luffy-1000'\n",
    "emp1 = Empregado.from_string(string)\n",
    "emp1.nome, emp1.salario"
   ]
  },
  {
   "cell_type": "markdown",
   "metadata": {},
   "source": [
    "### Métodos Estáticos\n",
    "\n",
    "Métodos estáticos são uma outra categoria de de métodos que podemos criar dentro de classes, porém com uma grande diferença: Métodos estáticos não recebem qualquer argumento classe ou objeto que o invoca. Logo, na prática métodos estáticos são como funções regulares que estão declaradas no contexto de uma classe.\n",
    "\n",
    "Em Python, o uso de métodos estáticos são no geral descenessários. Afinal, declaramos métodos estáticos quando o método em si possui alguma conexão/relação lógica com a classe em questão, contudo nada impede de que tal método seja uma função regular, uma vez que não precisa de qualquer informação da classe para trabalhar.\n",
    "\n",
    "A sintaxe para a criação de métodos estáticos se dá pelo uso do decorador `@staticmethod` e, é claro, sem qualquer parâmetro automático"
   ]
  },
  {
   "cell_type": "code",
   "execution_count": 227,
   "metadata": {},
   "outputs": [],
   "source": [
    "class Empregado:\n",
    "    comissao = 1.03\n",
    "    \n",
    "    def __init__(self, nome, salario):\n",
    "        self.nome = nome\n",
    "        self.salario = salario\n",
    "        \n",
    "    @classmethod\n",
    "    def set_comissao(cls, comissao):\n",
    "        cls.comissao = comissao\n",
    "    \n",
    "    @classmethod\n",
    "    def from_string(cls, string):\n",
    "        nome, salario = string.split('-')\n",
    "        return cls(nome, salario)\n",
    "    \n",
    "    @staticmethod\n",
    "    def is_workday(day):\n",
    "        if day.weekday() < 5:\n",
    "            return True\n",
    "        return False"
   ]
  },
  {
   "cell_type": "code",
   "execution_count": 229,
   "metadata": {},
   "outputs": [
    {
     "data": {
      "text/plain": [
       "True"
      ]
     },
     "execution_count": 229,
     "metadata": {},
     "output_type": "execute_result"
    }
   ],
   "source": [
    "import datetime\n",
    "\n",
    "emp1 = Empregado('Luffy', 1000)\n",
    "emp1.is_workday(datetime.date(2022, 1, 13))"
   ]
  },
  {
   "cell_type": "markdown",
   "metadata": {},
   "source": [
    "## Resumo"
   ]
  },
  {
   "cell_type": "markdown",
   "metadata": {},
   "source": [
    "### Interfaces Privadas\n",
    "\n",
    "Use o controle de acesso (a variáveis, principalmente) apenas quando realmente for necessário, como, por exemplo:\n",
    "\n",
    "- Validação do dado de entrada\n",
    "- Dado que não deve ser lido de forma alguma\n",
    "\n",
    "#### Underscore vs properties\n",
    "\n",
    "Use a convenção (de *underscores*) caso:\n",
    "\n",
    "- A classe não exija muita abstração\n",
    "- A quantidade de atributos é pequena\n",
    "\n",
    "Caso contrário use `@property`, ou seja:\n",
    "\n",
    "- A classe exige muita abstração\n",
    "- A quantidade de atributos é grande\n",
    "- Há vários atributos derivados\n",
    "\n",
    "Ainda, no geral o uso de um underscore já é o suficiente para informar a pessoa usuária que o método ou atributo não deve ser acessado diretamente. O uso de dois underscore só é necessário quando realmente queremos impedir completamente a escrita/leitura direta do dado.\n",
    "\n",
    "#### Setters e Getters\n",
    "\n",
    "Visto que podemos criar atributos em qualquer método da classe, ao inicializarmos atributos privados, os métodos de *setting* e *getting* devem seguir o padrão de nomenclatura (quando usando *underscores*). Porém, o uso de setters e getters só deve acontecer quando realmente necessário:\n",
    "\n",
    "- `set_<attribute>`\n",
    "- `get_<attribute>`"
   ]
  },
  {
   "cell_type": "markdown",
   "metadata": {},
   "source": [
    "## Exemplos"
   ]
  },
  {
   "cell_type": "markdown",
   "metadata": {},
   "source": [
    "### Exemplo #1"
   ]
  },
  {
   "cell_type": "code",
   "execution_count": 37,
   "metadata": {},
   "outputs": [],
   "source": [
    "class Person:\n",
    "\n",
    "    def __init__(self, age, weight, height):\n",
    "        self.set_age(age)\n",
    "        self.set_weight(weight)\n",
    "        self.set_height(height)\n",
    "        self.set_bmi(self.get_weight(), self.get_height())\n",
    "\n",
    "    def get_age(self):\n",
    "        return self.__age\n",
    "    \n",
    "    def set_age(self, age):\n",
    "        if age < 0:\n",
    "            raise ValueError(\"Age cannot be lower than 0\")\n",
    "        self.__age = age\n",
    "\n",
    "    def get_weight(self):\n",
    "        return self.__weight\n",
    "    \n",
    "    def set_weight(self, weight):\n",
    "        if weight < 0:\n",
    "            raise ValueError(\"Weight cannot be lower than 0\")\n",
    "        self.__weight = weight\n",
    "        \n",
    "    def get_height(self):\n",
    "        return self.__height\n",
    "    \n",
    "    def set_height(self, height):\n",
    "        if height < 0:\n",
    "            raise ValueError(\"Height cannot be lower than 0\")\n",
    "        self.__height = height\n",
    "    \n",
    "    def get_bmi(self):\n",
    "        return self.__bmi\n",
    "    \n",
    "    def set_bmi(self, weight, height):\n",
    "        self.__bmi = weight / ( (height / 100) ** 2)"
   ]
  },
  {
   "cell_type": "code",
   "execution_count": 38,
   "metadata": {},
   "outputs": [
    {
     "data": {
      "text/plain": [
       "(21, 90, 190, 24.930747922437675)"
      ]
     },
     "execution_count": 38,
     "metadata": {},
     "output_type": "execute_result"
    }
   ],
   "source": [
    "p = Person(21, 90, 190)\n",
    "p.get_age(), p.get_weight() , p.get_height(), p.get_bmi()"
   ]
  },
  {
   "cell_type": "markdown",
   "metadata": {},
   "source": [
    "### Exemplo #2"
   ]
  },
  {
   "cell_type": "code",
   "execution_count": 39,
   "metadata": {},
   "outputs": [],
   "source": [
    "class Person:\n",
    "\n",
    "    def __init__(self, age, weight, height):\n",
    "        self.age = age\n",
    "        self.weight = weight\n",
    "        self.height = height\n",
    "        self.bmi = None\n",
    "\n",
    "    @property\n",
    "    def age(self):\n",
    "        return self.__age\n",
    "    \n",
    "    @age.setter\n",
    "    def age(self, age):\n",
    "        if age < 0:\n",
    "            raise ValueError(\"Age cannot be lower than 0\")\n",
    "        self.__age = age\n",
    "\n",
    "    @property\n",
    "    def weight(self):\n",
    "        return self.__weight\n",
    "    \n",
    "    @weight.setter\n",
    "    def weight(self, weight):\n",
    "        if weight < 0:\n",
    "            raise ValueError(\"Weight cannot be lower than 0\")\n",
    "        self.__weight = weight\n",
    "        \n",
    "    @property\n",
    "    def height(self):\n",
    "        return self.__height\n",
    "    \n",
    "    @height.setter\n",
    "    def height(self, height):\n",
    "        if height < 0:\n",
    "            raise ValueError(\"Height cannot be lower than 0\")\n",
    "        self.__height = height\n",
    "    \n",
    "    @property\n",
    "    def bmi(self):\n",
    "        return self.__bmi\n",
    "    \n",
    "    @bmi.setter\n",
    "    def bmi(self, null):\n",
    "        self.__bmi = self.weight / ( (self.height / 100) ** 2)"
   ]
  },
  {
   "cell_type": "code",
   "execution_count": 40,
   "metadata": {},
   "outputs": [
    {
     "data": {
      "text/plain": [
       "24.930747922437675"
      ]
     },
     "execution_count": 40,
     "metadata": {},
     "output_type": "execute_result"
    }
   ],
   "source": [
    "p = Person(21, 90, 190)\n",
    "p.bmi"
   ]
  },
  {
   "cell_type": "code",
   "execution_count": 41,
   "metadata": {},
   "outputs": [
    {
     "data": {
      "text/plain": [
       "24.930747922437675"
      ]
     },
     "execution_count": 41,
     "metadata": {},
     "output_type": "execute_result"
    }
   ],
   "source": [
    "p._Person__bmi"
   ]
  },
  {
   "cell_type": "markdown",
   "metadata": {},
   "source": [
    "## Conclusão"
   ]
  },
  {
   "cell_type": "markdown",
   "metadata": {},
   "source": [
    "## Apêndice\n",
    "\n",
    "Por baixo dos panos, a passagem automática do primeiro parâmetro de um método regualr é na verdade um pouco mais do que simplesmente \"passagens automáticas\""
   ]
  },
  {
   "cell_type": "code",
   "execution_count": null,
   "metadata": {},
   "outputs": [],
   "source": []
  }
 ],
 "metadata": {
  "interpreter": {
   "hash": "690231b3045655aedc84dbaf464a15bfa594adb70ec303f046cfdd3018c94945"
  },
  "kernelspec": {
   "display_name": "Python 3 (ipykernel)",
   "language": "python",
   "name": "python3"
  },
  "language_info": {
   "codemirror_mode": {
    "name": "ipython",
    "version": 3
   },
   "file_extension": ".py",
   "mimetype": "text/x-python",
   "name": "python",
   "nbconvert_exporter": "python",
   "pygments_lexer": "ipython3",
   "version": "3.9.7"
  },
  "toc": {
   "base_numbering": 1,
   "nav_menu": {},
   "number_sections": true,
   "sideBar": true,
   "skip_h1_title": true,
   "title_cell": "Sumário",
   "title_sidebar": "Sumário",
   "toc_cell": true,
   "toc_position": {},
   "toc_section_display": true,
   "toc_window_display": false
  },
  "toc-autonumbering": false,
  "toc-showcode": false,
  "toc-showmarkdowntxt": false,
  "varInspector": {
   "cols": {
    "lenName": 16,
    "lenType": 16,
    "lenVar": 40
   },
   "kernels_config": {
    "python": {
     "delete_cmd_postfix": "",
     "delete_cmd_prefix": "del ",
     "library": "var_list.py",
     "varRefreshCmd": "print(var_dic_list())"
    },
    "r": {
     "delete_cmd_postfix": ") ",
     "delete_cmd_prefix": "rm(",
     "library": "var_list.r",
     "varRefreshCmd": "cat(var_dic_list()) "
    }
   },
   "types_to_exclude": [
    "module",
    "function",
    "builtin_function_or_method",
    "instance",
    "_Feature"
   ],
   "window_display": false
  }
 },
 "nbformat": 4,
 "nbformat_minor": 4
}
