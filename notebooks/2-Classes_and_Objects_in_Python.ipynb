{
 "cells": [
  {
   "cell_type": "markdown",
   "metadata": {},
   "source": [
    "# Classes e Objetos em Python"
   ]
  },
  {
   "cell_type": "markdown",
   "metadata": {},
   "source": [
    "## Criando Classes\n",
    "\n",
    "Para criar uma classe em Python, basta usar a *keyword* `class` seguida do nome da classe"
   ]
  },
  {
   "cell_type": "code",
   "execution_count": 2,
   "metadata": {
    "ExecuteTime": {
     "end_time": "2020-11-29T19:48:36.288768Z",
     "start_time": "2020-11-29T19:48:36.280816Z"
    }
   },
   "outputs": [],
   "source": [
    "class Point:\n",
    "    pass"
   ]
  },
  {
   "cell_type": "markdown",
   "metadata": {},
   "source": [
    "!!! note \"Nota\"\n",
    "    De acordo com a PEP8, classes devem ser nomeadas em _CamelCase_"
   ]
  },
  {
   "cell_type": "markdown",
   "metadata": {},
   "source": [
    "### Adicionando Atributos\n",
    "\n",
    "Orientação à objetos é sobre entidades (objetos) que possuem dados (atributos) e comportamentos (métodos) que, geralmente, ocorrem através do uso dos dados.\n",
    "\n",
    "No Python, um atributo é qualquer variável criada dentro da classe com prefixo `self`.\n",
    "\n",
    "Um atributo pode receber qualquer objeto (literalmenmte, qualquer objeto).\n",
    "\n",
    "Uma vez criado, o atributo pode ser acessado por meio da notação de ponto, da forma `<object>.<attribute>`."
   ]
  },
  {
   "cell_type": "code",
   "execution_count": 3,
   "metadata": {},
   "outputs": [],
   "source": [
    "class Point:\n",
    "    # Informações sobre o método __init__ adiante\n",
    "    def __init__(self):\n",
    "        self.x = 0\n",
    "        self.y = 0"
   ]
  },
  {
   "cell_type": "code",
   "execution_count": 4,
   "metadata": {
    "ExecuteTime": {
     "end_time": "2020-11-29T20:02:02.448958Z",
     "start_time": "2020-11-29T20:02:02.436611Z"
    }
   },
   "outputs": [
    {
     "data": {
      "text/plain": [
       "(0, 0)"
      ]
     },
     "execution_count": 4,
     "metadata": {},
     "output_type": "execute_result"
    }
   ],
   "source": [
    "p = Point()\n",
    "p.x, p.y"
   ]
  },
  {
   "cell_type": "markdown",
   "metadata": {},
   "source": [
    "Alternativamente, também podemos usar a notação de ponto (i.e. `<object>.<attribute> = <value>`) para criar um novo atributo em um objeto instanciado."
   ]
  },
  {
   "cell_type": "code",
   "execution_count": 5,
   "metadata": {
    "ExecuteTime": {
     "end_time": "2020-11-29T20:02:09.579393Z",
     "start_time": "2020-11-29T20:02:09.569336Z"
    }
   },
   "outputs": [
    {
     "data": {
      "text/plain": [
       "(0, 0, 0)"
      ]
     },
     "execution_count": 5,
     "metadata": {},
     "output_type": "execute_result"
    }
   ],
   "source": [
    "p.z = 0\n",
    "\n",
    "p.x, p.y, p.z"
   ]
  },
  {
   "cell_type": "markdown",
   "metadata": {},
   "source": [
    "### Adicionando Métodos"
   ]
  },
  {
   "cell_type": "markdown",
   "metadata": {},
   "source": [
    "A única diferença entre métodos de uma classe e funções convencionais é que **todos os métodos possuem um argumento obrigatório**. Este argumento pode ser qualquer um, mas a convenção global é `self` (use a convenção!).\n",
    "\n",
    "O argumento `self` é uma **referência para o objeto pelo qual o método está sendo invocado**. Assim, podemos acessar qualquer atributo ou método do objeto através do `self`.\n",
    "\n",
    "!!! note \"Nota\"\n",
    "    Note que ao invocarmos um método, o Python passa o argumento `self` automaticamente."
   ]
  },
  {
   "cell_type": "code",
   "execution_count": 6,
   "metadata": {
    "ExecuteTime": {
     "end_time": "2020-11-29T20:03:52.618651Z",
     "start_time": "2020-11-29T20:03:52.609504Z"
    }
   },
   "outputs": [],
   "source": [
    "class Point:\n",
    "    # Informações sobre o método __init__ adiante\n",
    "    def __init__(self):\n",
    "        self.x = 0\n",
    "        self.y = 0\n",
    "\n",
    "    def reset(self):\n",
    "        self.x = 0\n",
    "        self.y = 0"
   ]
  },
  {
   "cell_type": "code",
   "execution_count": 7,
   "metadata": {},
   "outputs": [
    {
     "data": {
      "text/plain": [
       "(3, 3)"
      ]
     },
     "execution_count": 7,
     "metadata": {},
     "output_type": "execute_result"
    }
   ],
   "source": [
    "p = Point()\n",
    "p.x = p.y = 3\n",
    "\n",
    "p.x, p.y"
   ]
  },
  {
   "cell_type": "code",
   "execution_count": 8,
   "metadata": {
    "ExecuteTime": {
     "end_time": "2020-11-29T20:03:57.314440Z",
     "start_time": "2020-11-29T20:03:57.308387Z"
    }
   },
   "outputs": [
    {
     "data": {
      "text/plain": [
       "(0, 0)"
      ]
     },
     "execution_count": 8,
     "metadata": {},
     "output_type": "execute_result"
    }
   ],
   "source": [
    "p.reset()\n",
    "p.x, p.y"
   ]
  },
  {
   "cell_type": "markdown",
   "metadata": {},
   "source": [
    "Perceba também que como temos a referência para o objeto, podemos fazer a chamada dos métodos a partir da classe (e não somente a partir objeto)."
   ]
  },
  {
   "cell_type": "code",
   "execution_count": 9,
   "metadata": {},
   "outputs": [
    {
     "data": {
      "text/plain": [
       "(0, 0)"
      ]
     },
     "execution_count": 9,
     "metadata": {},
     "output_type": "execute_result"
    }
   ],
   "source": [
    "p = Point()\n",
    "Point.reset(p)\n",
    "\n",
    "p.x, p.y"
   ]
  },
  {
   "cell_type": "markdown",
   "metadata": {
    "ExecuteTime": {
     "end_time": "2020-11-29T20:05:52.033272Z",
     "start_time": "2020-11-29T20:05:52.024988Z"
    }
   },
   "source": [
    "Se não declararmos o argumento obrigatório no nosso método, recebemos uma mensagem de erro indicando a falta de um argumento ao criarmos um objeto"
   ]
  },
  {
   "cell_type": "code",
   "execution_count": 10,
   "metadata": {},
   "outputs": [],
   "source": [
    "class Point:\n",
    "    # Informações sobre o método __init__ adiante\n",
    "    def __init__():\n",
    "        self.x = 0\n",
    "        self.y = 0"
   ]
  },
  {
   "cell_type": "code",
   "execution_count": 11,
   "metadata": {},
   "outputs": [
    {
     "ename": "TypeError",
     "evalue": "__init__() takes 0 positional arguments but 1 was given",
     "output_type": "error",
     "traceback": [
      "\u001b[0;31m----------------------------------------------\u001b[0m",
      "\u001b[0;31mTypeError\u001b[0m    Traceback (most recent call last)",
      "\u001b[0;32m<ipython-input-11-45eef628f0cf>\u001b[0m in \u001b[0;36m<module>\u001b[0;34m\u001b[0m\n\u001b[0;32m----> 1\u001b[0;31m \u001b[0mp\u001b[0m \u001b[0;34m=\u001b[0m \u001b[0mPoint\u001b[0m\u001b[0;34m(\u001b[0m\u001b[0;34m)\u001b[0m\u001b[0;34m\u001b[0m\u001b[0;34m\u001b[0m\u001b[0m\n\u001b[0m",
      "\u001b[0;31mTypeError\u001b[0m: __init__() takes 0 positional arguments but 1 was given"
     ]
    }
   ],
   "source": [
    "p = Point()"
   ]
  },
  {
   "cell_type": "markdown",
   "metadata": {},
   "source": [
    "### Inicializando Objetos\n",
    "O modo mais comum de se definir os atributos de um objeto é através de um construtor. Um construtor é um método especial executado sempre que um objeto é criado.\n",
    "\n",
    "Em Python, há (na verdade) um construtor e um inicializador. Porém, o construtor é raramente utilizado. Assim, utilizamos o inicializador para definirmos todos os atributos da classe.\n",
    "\n",
    "Assim como o construtor, o inicializador é sempre executado quando um objeto é criado e funciona da mesma forma que qualquer outro método. A única diferença está em seu nome, que deve ser `__init__`. Esta nomeação faz com que o interpretador do Python reconheça que `__init__` é o inicializador da classe."
   ]
  },
  {
   "cell_type": "code",
   "execution_count": 12,
   "metadata": {
    "ExecuteTime": {
     "end_time": "2020-11-29T20:11:03.581555Z",
     "start_time": "2020-11-29T20:11:03.577629Z"
    }
   },
   "outputs": [],
   "source": [
    "class Point:\n",
    "    def __init__(self, x=0, y=0):\n",
    "        self.move(x, y)\n",
    "    \n",
    "    def move(self, x, y):\n",
    "        self.x = x\n",
    "        self.y = y\n",
    "    \n",
    "    def reset(self):\n",
    "        self.move(0, 0)"
   ]
  },
  {
   "cell_type": "code",
   "execution_count": 13,
   "metadata": {
    "ExecuteTime": {
     "end_time": "2020-11-29T20:11:10.357217Z",
     "start_time": "2020-11-29T20:11:10.347427Z"
    }
   },
   "outputs": [
    {
     "data": {
      "text/plain": [
       "(0, 0)"
      ]
     },
     "execution_count": 13,
     "metadata": {},
     "output_type": "execute_result"
    }
   ],
   "source": [
    "p = Point(0, 0)\n",
    "p.x, p.y"
   ]
  },
  {
   "cell_type": "code",
   "execution_count": 14,
   "metadata": {},
   "outputs": [
    {
     "data": {
      "text/plain": [
       "(3, 5)"
      ]
     },
     "execution_count": 14,
     "metadata": {},
     "output_type": "execute_result"
    }
   ],
   "source": [
    "p = Point(3, 5)\n",
    "p.x, p.y"
   ]
  },
  {
   "cell_type": "markdown",
   "metadata": {},
   "source": [
    "> *Most of the time, we put our initialization statements in an `__init__` function. But as mentioned earlier, Python has a constructor in addition to its initialization function. You may never need to use the other Python constructor, but it helps to know it exists, so we'll cover it briefly. The constructor function is called `__new__` as opposed to `__init__` , and accepts exactly one argument; the class that is being constructed (it is called before the object is constructed, so there is no self argument). It also has to return the newly created object. This has interesting possibilities when it comes to the complicated art of metaprogramming, but is not very useful in day-to-day programming. In practice, you will rarely, if ever, need to use `__new__` and `__init__` will be sufficient.*"
   ]
  },
  {
   "cell_type": "markdown",
   "metadata": {},
   "source": [
    "## Interface Privada\n",
    "\n",
    "A grande maioria das linguagens orientadas à objetos possuem algum mecanismo de *controle de acesso* aos métodos e atributos. Com isso, é possível marcar (e.g.) atributos como sendo:\n",
    "- **Privados**. Apenas o próprio objeto pode acessá-lo.\n",
    "- **Protegidos**. Apenas a classe e subclasses do objeto podem acessar seus atributos e métodos.\n",
    "\n",
    "O controle de acesso é interessante principalmente para:\n",
    "\n",
    "- **Encapsulamento de atributos.** Assim, quando o acesso ou atribuição de um atributo é complexo, podemos abstrair tal complexidade em métodos de *setting* e *getting* que devem ser utilizados para acessar ou definir o valor de um atributo.\n",
    "\n",
    "- Quanto aos métodos, torná-los privados significa removê-los da interface principal cujo usuário deve utilizar para interagir com o objeto."
   ]
  },
  {
   "cell_type": "code",
   "execution_count": 15,
   "metadata": {},
   "outputs": [],
   "source": [
    "class Person:\n",
    "    \n",
    "    def __init__(self, weight, height):\n",
    "        self.set_weight(weight)\n",
    "        self.set_height(height)\n",
    "    \n",
    "    def set_weight(self, weight):\n",
    "        if weight < 0:\n",
    "            raise ValueError(\"Weight cannot be lower than 0\")\n",
    "        self.weight = weight\n",
    "    \n",
    "    def set_height(self, height):\n",
    "        if height < 0:\n",
    "            raise ValueError(\"Height cannot be lower than 0\")\n",
    "        self.height = height"
   ]
  },
  {
   "cell_type": "code",
   "execution_count": 16,
   "metadata": {},
   "outputs": [
    {
     "ename": "ValueError",
     "evalue": "Weight cannot be lower than 0",
     "output_type": "error",
     "traceback": [
      "\u001b[0;31m----------------------------------------------\u001b[0m",
      "\u001b[0;31mValueError\u001b[0m   Traceback (most recent call last)",
      "\u001b[0;32m<ipython-input-16-7429ca29f078>\u001b[0m in \u001b[0;36m<module>\u001b[0;34m\u001b[0m\n\u001b[0;32m----> 1\u001b[0;31m \u001b[0mp\u001b[0m \u001b[0;34m=\u001b[0m \u001b[0mPerson\u001b[0m\u001b[0;34m(\u001b[0m\u001b[0;34m-\u001b[0m\u001b[0;36m1\u001b[0m\u001b[0;34m,\u001b[0m \u001b[0;34m-\u001b[0m\u001b[0;36m1\u001b[0m\u001b[0;34m)\u001b[0m\u001b[0;34m\u001b[0m\u001b[0;34m\u001b[0m\u001b[0m\n\u001b[0m",
      "\u001b[0;32m<ipython-input-15-47f694df236e>\u001b[0m in \u001b[0;36m__init__\u001b[0;34m(self, weight, height)\u001b[0m\n\u001b[1;32m      2\u001b[0m \u001b[0;34m\u001b[0m\u001b[0m\n\u001b[1;32m      3\u001b[0m     \u001b[0;32mdef\u001b[0m \u001b[0m__init__\u001b[0m\u001b[0;34m(\u001b[0m\u001b[0mself\u001b[0m\u001b[0;34m,\u001b[0m \u001b[0mweight\u001b[0m\u001b[0;34m,\u001b[0m \u001b[0mheight\u001b[0m\u001b[0;34m)\u001b[0m\u001b[0;34m:\u001b[0m\u001b[0;34m\u001b[0m\u001b[0;34m\u001b[0m\u001b[0m\n\u001b[0;32m----> 4\u001b[0;31m         \u001b[0mself\u001b[0m\u001b[0;34m.\u001b[0m\u001b[0mset_weight\u001b[0m\u001b[0;34m(\u001b[0m\u001b[0mweight\u001b[0m\u001b[0;34m)\u001b[0m\u001b[0;34m\u001b[0m\u001b[0;34m\u001b[0m\u001b[0m\n\u001b[0m\u001b[1;32m      5\u001b[0m         \u001b[0mself\u001b[0m\u001b[0;34m.\u001b[0m\u001b[0mset_height\u001b[0m\u001b[0;34m(\u001b[0m\u001b[0mheight\u001b[0m\u001b[0;34m)\u001b[0m\u001b[0;34m\u001b[0m\u001b[0;34m\u001b[0m\u001b[0m\n\u001b[1;32m      6\u001b[0m \u001b[0;34m\u001b[0m\u001b[0m\n",
      "\u001b[0;32m<ipython-input-15-47f694df236e>\u001b[0m in \u001b[0;36mset_weight\u001b[0;34m(self, weight)\u001b[0m\n\u001b[1;32m      7\u001b[0m     \u001b[0;32mdef\u001b[0m \u001b[0mset_weight\u001b[0m\u001b[0;34m(\u001b[0m\u001b[0mself\u001b[0m\u001b[0;34m,\u001b[0m \u001b[0mweight\u001b[0m\u001b[0;34m)\u001b[0m\u001b[0;34m:\u001b[0m\u001b[0;34m\u001b[0m\u001b[0;34m\u001b[0m\u001b[0m\n\u001b[1;32m      8\u001b[0m         \u001b[0;32mif\u001b[0m \u001b[0mweight\u001b[0m \u001b[0;34m<\u001b[0m \u001b[0;36m0\u001b[0m\u001b[0;34m:\u001b[0m\u001b[0;34m\u001b[0m\u001b[0;34m\u001b[0m\u001b[0m\n\u001b[0;32m----> 9\u001b[0;31m             \u001b[0;32mraise\u001b[0m \u001b[0mValueError\u001b[0m\u001b[0;34m(\u001b[0m\u001b[0;34m\"Weight cannot be lower than 0\"\u001b[0m\u001b[0;34m)\u001b[0m\u001b[0;34m\u001b[0m\u001b[0;34m\u001b[0m\u001b[0m\n\u001b[0m\u001b[1;32m     10\u001b[0m         \u001b[0mself\u001b[0m\u001b[0;34m.\u001b[0m\u001b[0mweight\u001b[0m \u001b[0;34m=\u001b[0m \u001b[0mweight\u001b[0m\u001b[0;34m\u001b[0m\u001b[0;34m\u001b[0m\u001b[0m\n\u001b[1;32m     11\u001b[0m \u001b[0;34m\u001b[0m\u001b[0m\n",
      "\u001b[0;31mValueError\u001b[0m: Weight cannot be lower than 0"
     ]
    }
   ],
   "source": [
    "p = Person(-1, -1)"
   ]
  },
  {
   "cell_type": "code",
   "execution_count": 17,
   "metadata": {},
   "outputs": [
    {
     "data": {
      "text/plain": [
       "(190, 90)"
      ]
     },
     "execution_count": 17,
     "metadata": {},
     "output_type": "execute_result"
    }
   ],
   "source": [
    "p = Person(190, 90)\n",
    "p.weight, p.height"
   ]
  },
  {
   "cell_type": "markdown",
   "metadata": {},
   "source": [
    "O Python não posui um mecanismo de controle de acesso padrão. Tecnicamente, todos os métodos e atributos de uma classe são públicos. Porém, há algumas convenções que podemos utilizar para marcar-los como **internos** (ou seja, como algo encapsulado no objeto e que não deve ser acessado diretamente)."
   ]
  },
  {
   "cell_type": "markdown",
   "metadata": {},
   "source": [
    "### Underscores\n",
    "\n",
    "A forma mais comum de marcarmos atributos e métodos como internos é através de *underscores* (`_`). Com isso, estamos deixando claro que o atributo em questão é interno e, portanto, não deve ser acessado diretamente.\n",
    "\n",
    "- Note que isto é apenas uma convenção e que o usuário ainda pode acessá-lo, caso queira.\n",
    "\n",
    "Alternativamente, podemos prefixar o atributo com dois *underscores* (`__`). Assim, estamos:\n",
    "- Recomendando fortemente para que o atributo não seja acessado diretamente\n",
    "- Dificultando o acesso ao atributo, uma vez que o interpreteador do Python executará um processo denominado *\"name mangling\"*[^1] em todo atributo que comece com dois *underscore*"
   ]
  },
  {
   "cell_type": "code",
   "execution_count": 18,
   "metadata": {
    "ExecuteTime": {
     "end_time": "2020-11-29T20:20:40.709889Z",
     "start_time": "2020-11-29T20:20:40.705703Z"
    }
   },
   "outputs": [],
   "source": [
    "class SecretString:\n",
    "    '''A not-at-all secure way to store a secret string.'''\n",
    "    def __init__(self, plain_string, pass_phrase):\n",
    "        self.__plain_string = plain_string\n",
    "        self.__pass_phrase = pass_phrase\n",
    "    \n",
    "    def decrypt(self, pass_phrase):\n",
    "        '''Only show the string if the pass_phrase is correct.'''\n",
    "        if pass_phrase == self.__pass_phrase:\n",
    "            return self.__plain_string\n",
    "        else:\n",
    "            return ''"
   ]
  },
  {
   "cell_type": "code",
   "execution_count": 19,
   "metadata": {
    "ExecuteTime": {
     "end_time": "2020-11-29T20:20:53.626082Z",
     "start_time": "2020-11-29T20:20:53.619103Z"
    }
   },
   "outputs": [
    {
     "data": {
      "text/plain": [
       "'ACME: Top Secret'"
      ]
     },
     "execution_count": 19,
     "metadata": {},
     "output_type": "execute_result"
    }
   ],
   "source": [
    "secret_string = SecretString(\"ACME: Top Secret\", \"antwerp\")\n",
    "\n",
    "secret_string.decrypt(\"antwerp\")"
   ]
  },
  {
   "cell_type": "code",
   "execution_count": 20,
   "metadata": {
    "ExecuteTime": {
     "end_time": "2020-11-29T20:21:01.037581Z",
     "start_time": "2020-11-29T20:21:00.982491Z"
    }
   },
   "outputs": [
    {
     "ename": "AttributeError",
     "evalue": "'SecretString' object has no attribute '__plain_text'",
     "output_type": "error",
     "traceback": [
      "\u001b[0;31m----------------------------------------------\u001b[0m",
      "\u001b[0;31mAttributeError\u001b[0mTraceback (most recent call last)",
      "\u001b[0;32m<ipython-input-20-7d444361b25e>\u001b[0m in \u001b[0;36m<module>\u001b[0;34m\u001b[0m\n\u001b[1;32m      1\u001b[0m \u001b[0;31m# Note que não é possível acessar o atributo diretamente através da notação de ponto\u001b[0m\u001b[0;34m\u001b[0m\u001b[0;34m\u001b[0m\u001b[0;34m\u001b[0m\u001b[0m\n\u001b[0;32m----> 2\u001b[0;31m \u001b[0msecret_string\u001b[0m\u001b[0;34m.\u001b[0m\u001b[0m__plain_text\u001b[0m\u001b[0;34m\u001b[0m\u001b[0;34m\u001b[0m\u001b[0m\n\u001b[0m",
      "\u001b[0;31mAttributeError\u001b[0m: 'SecretString' object has no attribute '__plain_text'"
     ]
    }
   ],
   "source": [
    "# Note que não é possível acessar o atributo diretamente através da notação de ponto\n",
    "secret_string.__plain_text"
   ]
  },
  {
   "cell_type": "code",
   "execution_count": 21,
   "metadata": {
    "ExecuteTime": {
     "end_time": "2020-11-29T20:21:21.650426Z",
     "start_time": "2020-11-29T20:21:21.640264Z"
    }
   },
   "outputs": [
    {
     "data": {
      "text/plain": [
       "'ACME: Top Secret'"
      ]
     },
     "execution_count": 21,
     "metadata": {},
     "output_type": "execute_result"
    }
   ],
   "source": [
    "# Porém, ainda podemos acessar o atributo através do nome resultante do processo de \"name mangling\"\n",
    "secret_string._SecretString__plain_string"
   ]
  },
  {
   "cell_type": "markdown",
   "metadata": {},
   "source": [
    "### Properties\n",
    "\n",
    "Uma segunda e mais robusta forma de definir atributos é através da função `property` (esta estratégia funciona apenas para atributos!). \n",
    "\n",
    "Com `property` podemos\n",
    "\n",
    "- Definir atributos que podem ser acessados diretamente (através da notação de ponto)\n",
    "- (Ao mesmo tempo em que) estão encapsulados em alguma interface (i.e. em métodos de *setting* e *getting*).\n",
    "\n",
    "Podemos pensar na função `property` como uma função que:\n",
    "- Retorna um objeto cujo objetivo é **\"proxear\"** qualquer requisição de atribuição ou acesso ao atributo para o método correspondente (que especificarmos).\n",
    "\n",
    "A sintaxe da `property` é:\n",
    "\n",
    "```python\n",
    "property(fget=None, fset=None, fdel=None, doc=None)\n",
    "```\n",
    "\n",
    "onde,\n",
    "\n",
    "- `fget` é a função que acessa o atributo\n",
    "- `fset` é a função que atribui um valor ao atributo\n",
    "- `fdel` é a função que deleta o atributo\n",
    "- `doc` é uma string que representa a documentação do atributo.\n",
    "\n",
    "Todos estes parâmetros são opcionais. Contudo, utilizarmos *properties* com o objetivo de pelo menos definir uma função de acesso.\n",
    "\n",
    "> Note que mesmo com o uso de `property`, ainda é possível acessar e modificar os atributos via *name mangling*"
   ]
  },
  {
   "cell_type": "code",
   "execution_count": 22,
   "metadata": {},
   "outputs": [],
   "source": [
    "class Color:\n",
    "    \n",
    "    def __init__(self, rgb_value, name):\n",
    "        self.rgb_value = rgb_value\n",
    "        self.__name = name\n",
    "\n",
    "    def _set_name(self, name):\n",
    "        if not name:\n",
    "            raise Exception(\"Invalid Name\")\n",
    "        self.__name = name\n",
    "\n",
    "    def _get_name(self):\n",
    "        return self.__name\n",
    "\n",
    "    name = property(_get_name, _set_name)"
   ]
  },
  {
   "cell_type": "code",
   "execution_count": 23,
   "metadata": {},
   "outputs": [
    {
     "data": {
      "text/plain": [
       "'bright red'"
      ]
     },
     "execution_count": 23,
     "metadata": {},
     "output_type": "execute_result"
    }
   ],
   "source": [
    "c = Color(\"#0000ff\", \"bright red\")\n",
    "c.name"
   ]
  },
  {
   "cell_type": "markdown",
   "metadata": {},
   "source": [
    "#### Decorador @property\n",
    "\n",
    "Podemos usar a funçao `property` como um decorador para os métodos de *setting* e *getting*, tornando a sintaxe mais simples e menos poluída.\n",
    "\n",
    "Para isso, basta decorarmos o método *getter* com `@property`, seguido do método cujo nome deve ser o mesmo do atributo. No caso de *setter*, basta utilizar a sintaxe `@<attribute>.setter / def <attribute>`"
   ]
  },
  {
   "cell_type": "code",
   "execution_count": 81,
   "metadata": {},
   "outputs": [],
   "source": [
    "class Color:\n",
    "    \n",
    "    def __init__(self, rgb_value, name):\n",
    "        self.rgb_value = rgb_value\n",
    "        self.__name = name\n",
    "    \n",
    "    @property\n",
    "    def name(self):\n",
    "        return self.__name\n",
    "    \n",
    "    @name.setter\n",
    "    def name(self, name):\n",
    "        if not name:\n",
    "            raise Exception(\"Invalid Name\")\n",
    "        self.__name = name"
   ]
  },
  {
   "cell_type": "code",
   "execution_count": 83,
   "metadata": {},
   "outputs": [
    {
     "data": {
      "text/plain": [
       "'bright red'"
      ]
     },
     "execution_count": 83,
     "metadata": {},
     "output_type": "execute_result"
    }
   ],
   "source": [
    "c = Color(\"#0000ff\", \"bright red\")\n",
    "c.name"
   ]
  },
  {
   "cell_type": "markdown",
   "metadata": {},
   "source": [
    "## Atributos e Métodos de Classe\n",
    "\n",
    "Sabendo que objetos são instâncias que uma classe, pode haver situações em que os elementos da classe não são dependentes (i.e. estão relacionados) à instância da classe, mas apenas à classe em si.\n",
    "\n",
    "Neste caso onde os elementos são os mesmos para qualquer instância da classe, o atributo e/ou método são denominados *da classe*."
   ]
  },
  {
   "cell_type": "markdown",
   "metadata": {},
   "source": [
    "### Atributos da Classe\n",
    "No Python, qualquer variável declarada fora do inicializador ou métodos é uma variável da classe. Logo, um atributo da classe."
   ]
  },
  {
   "cell_type": "code",
   "execution_count": 24,
   "metadata": {},
   "outputs": [],
   "source": [
    "class ExampleClass:\n",
    "    attr_class = \"I'm a class attribute\"\n",
    "    \n",
    "    def __init__(self, attr_instance):\n",
    "        self.attr_instance = f\"I'm a instance attribute, look: '{attr_instance}'\""
   ]
  },
  {
   "cell_type": "code",
   "execution_count": 25,
   "metadata": {},
   "outputs": [],
   "source": [
    "a = ExampleClass(\"Salve!\")\n",
    "b = ExampleClass(\"Aloha!\")"
   ]
  },
  {
   "cell_type": "code",
   "execution_count": 26,
   "metadata": {},
   "outputs": [
    {
     "data": {
      "text/plain": [
       "\"I'm a instance attribute, look: 'Salve!'\""
      ]
     },
     "execution_count": 26,
     "metadata": {},
     "output_type": "execute_result"
    }
   ],
   "source": [
    "a.attr_instance"
   ]
  },
  {
   "cell_type": "code",
   "execution_count": 27,
   "metadata": {},
   "outputs": [
    {
     "data": {
      "text/plain": [
       "\"I'm a instance attribute, look: 'Aloha!'\""
      ]
     },
     "execution_count": 27,
     "metadata": {},
     "output_type": "execute_result"
    }
   ],
   "source": [
    "b.attr_instance"
   ]
  },
  {
   "cell_type": "code",
   "execution_count": 28,
   "metadata": {},
   "outputs": [
    {
     "data": {
      "text/plain": [
       "\"I'm a class attribute\""
      ]
     },
     "execution_count": 28,
     "metadata": {},
     "output_type": "execute_result"
    }
   ],
   "source": [
    "a.attr_class"
   ]
  },
  {
   "cell_type": "code",
   "execution_count": 29,
   "metadata": {},
   "outputs": [
    {
     "data": {
      "text/plain": [
       "\"I'm a class attribute\""
      ]
     },
     "execution_count": 29,
     "metadata": {},
     "output_type": "execute_result"
    }
   ],
   "source": [
    "b.attr_class"
   ]
  },
  {
   "cell_type": "code",
   "execution_count": 30,
   "metadata": {},
   "outputs": [
    {
     "data": {
      "text/plain": [
       "\"I'm a class attribute\""
      ]
     },
     "execution_count": 30,
     "metadata": {},
     "output_type": "execute_result"
    }
   ],
   "source": [
    "ExampleClass.attr_class"
   ]
  },
  {
   "cell_type": "code",
   "execution_count": 31,
   "metadata": {},
   "outputs": [
    {
     "ename": "AttributeError",
     "evalue": "type object 'ExampleClass' has no attribute 'attr_instance'",
     "output_type": "error",
     "traceback": [
      "\u001b[0;31m----------------------------------------------\u001b[0m",
      "\u001b[0;31mAttributeError\u001b[0mTraceback (most recent call last)",
      "\u001b[0;32m<ipython-input-31-ca4f4c1df6d3>\u001b[0m in \u001b[0;36m<module>\u001b[0;34m\u001b[0m\n\u001b[0;32m----> 1\u001b[0;31m \u001b[0mExampleClass\u001b[0m\u001b[0;34m.\u001b[0m\u001b[0mattr_instance\u001b[0m\u001b[0;34m\u001b[0m\u001b[0;34m\u001b[0m\u001b[0m\n\u001b[0m",
      "\u001b[0;31mAttributeError\u001b[0m: type object 'ExampleClass' has no attribute 'attr_instance'"
     ]
    }
   ],
   "source": [
    "ExampleClass.attr_instance"
   ]
  },
  {
   "cell_type": "markdown",
   "metadata": {},
   "source": [
    "### Métodos da Classe\n",
    "\n",
    "Assim como atributos de classe, métodos de classe possuem o mesmo princípio.\n",
    "\n",
    "A questão é que no Python, podemos diferenciar métodos de classe em dois tipos: `staticmethod` e `classmethod`.\n",
    "\n",
    "- `staticmethod`. Métodos onde não há qualquer passagem implícita de parâmetros. De fato, são métodos idênticos a funções convencionais onde a única diferença é que para executá-lo é necessário invocá-lo através da classe ou objeto (instância da classe).\n",
    "\n",
    "- `classmethod`. Métodos onde ao invés da referência para o objeto (`self`) ser passada implícitamente como parâmetro, é passado a referência para a classe do objeto. Assim como o `staticmethod`, para executá-lo basta invocá-lo através da classe ou objeto."
   ]
  },
  {
   "cell_type": "code",
   "execution_count": 32,
   "metadata": {},
   "outputs": [],
   "source": [
    "class ExampleClass:\n",
    "    \n",
    "    def foo(self):\n",
    "        print(f\"I'm foo from {self}\")\n",
    "    \n",
    "    @classmethod\n",
    "    def class_foo(cls):\n",
    "        print(f\"I'm foo from {cls}\")\n",
    "    \n",
    "    @staticmethod\n",
    "    def static_foo():\n",
    "        print(f\"I'm a static foo\")"
   ]
  },
  {
   "cell_type": "code",
   "execution_count": 33,
   "metadata": {},
   "outputs": [],
   "source": [
    "a = ExampleClass()"
   ]
  },
  {
   "cell_type": "code",
   "execution_count": 34,
   "metadata": {},
   "outputs": [
    {
     "name": "stdout",
     "output_type": "stream",
     "text": [
      "I'm foo from <__main__.ExampleClass object at 0x7f2c0806e280>\n"
     ]
    }
   ],
   "source": [
    "a.foo()"
   ]
  },
  {
   "cell_type": "code",
   "execution_count": 35,
   "metadata": {},
   "outputs": [
    {
     "name": "stdout",
     "output_type": "stream",
     "text": [
      "I'm foo from <class '__main__.ExampleClass'>\n"
     ]
    }
   ],
   "source": [
    "a.class_foo()"
   ]
  },
  {
   "cell_type": "code",
   "execution_count": 36,
   "metadata": {},
   "outputs": [
    {
     "name": "stdout",
     "output_type": "stream",
     "text": [
      "I'm a static foo\n"
     ]
    }
   ],
   "source": [
    "a.static_foo()"
   ]
  },
  {
   "cell_type": "markdown",
   "metadata": {},
   "source": [
    "Diferente de outras linguagens de orientação à objetos, em Python o uso de métodos de classe é questionável.\n",
    "\n",
    "Isso porque, o uso recomendado de `classmethod` é para a sobrecarga de \"construtores\" (na verdade, inicializadores) de subclasses, uma vez que o uso de `@classmethod` é a melhor alternativa para acessar a classe do objeto.\n",
    "\n",
    "Caso acessar a classe não seja o objetivo, então podemos usar `staticmethod`. Contudo, devemos reconsiderar fortemente se o método em questão deve realmente estar vinculado à classe ou, então, pode ser definido uma função independente (*standalone*)."
   ]
  },
  {
   "cell_type": "markdown",
   "metadata": {},
   "source": [
    "## Boas Práticas na Criação de Classes"
   ]
  },
  {
   "cell_type": "markdown",
   "metadata": {},
   "source": [
    "### Quando Usar Interface Privada\n",
    "In general, always use a standard attribute until you need to control access to that property in some way. In either case, your attribute is usually a noun. The only difference between an attribute and a property is that we can invoke custom actions automatically when a property is retrieved, set, or deleted."
   ]
  },
  {
   "cell_type": "markdown",
   "metadata": {},
   "source": [
    "### Underscore vs Properties\n",
    "\n",
    "Use a convenção (de *underscores*) caso:\n",
    "\n",
    "- A classe não exija muita abstração\n",
    "- A quantidade de atributos é pequena\n",
    "\n",
    "Caso contrário use `@property`, ou seja:\n",
    "\n",
    "- A classe exige muita abstração\n",
    "- A quantidade de atributos é grande\n",
    "- A vários atributos derivados\n",
    "\n",
    "\n",
    "Ainda, embora mais complexo, opte sempre pelo uso de dois **underscores**."
   ]
  },
  {
   "cell_type": "markdown",
   "metadata": {},
   "source": [
    "### Setters e Getters\n",
    "\n",
    "Visto que podemos criar atributos em qualquer método da classe, ao inicializarmos atributos privados, os métodos de *setting* e *getting* devem seguir o padrão de nomenclatura (quando usando *underscores*):\n",
    "\n",
    "- `set_<attribute>`\n",
    "- `get_<attribute>`"
   ]
  },
  {
   "cell_type": "markdown",
   "metadata": {},
   "source": [
    "## Examples"
   ]
  },
  {
   "cell_type": "markdown",
   "metadata": {},
   "source": [
    "### Example #1"
   ]
  },
  {
   "cell_type": "code",
   "execution_count": 37,
   "metadata": {},
   "outputs": [],
   "source": [
    "class Person:\n",
    "\n",
    "    def __init__(self, age, weight, height):\n",
    "        self.set_age(age)\n",
    "        self.set_weight(weight)\n",
    "        self.set_height(height)\n",
    "        self.set_bmi(self.get_weight(), self.get_height())\n",
    "\n",
    "    def get_age(self):\n",
    "        return self.__age\n",
    "    \n",
    "    def set_age(self, age):\n",
    "        if age < 0:\n",
    "            raise ValueError(\"Age cannot be lower than 0\")\n",
    "        self.__age = age\n",
    "\n",
    "    def get_weight(self):\n",
    "        return self.__weight\n",
    "    \n",
    "    def set_weight(self, weight):\n",
    "        if weight < 0:\n",
    "            raise ValueError(\"Weight cannot be lower than 0\")\n",
    "        self.__weight = weight\n",
    "        \n",
    "    def get_height(self):\n",
    "        return self.__height\n",
    "    \n",
    "    def set_height(self, height):\n",
    "        if height < 0:\n",
    "            raise ValueError(\"Height cannot be lower than 0\")\n",
    "        self.__height = height\n",
    "    \n",
    "    def get_bmi(self):\n",
    "        return self.__bmi\n",
    "    \n",
    "    def set_bmi(self, weight, height):\n",
    "        self.__bmi = weight / ( (height / 100) ** 2)"
   ]
  },
  {
   "cell_type": "code",
   "execution_count": 38,
   "metadata": {},
   "outputs": [
    {
     "data": {
      "text/plain": [
       "(21, 90, 190, 24.930747922437675)"
      ]
     },
     "execution_count": 38,
     "metadata": {},
     "output_type": "execute_result"
    }
   ],
   "source": [
    "p = Person(21, 90, 190)\n",
    "p.get_age(), p.get_weight() , p.get_height(), p.get_bmi()"
   ]
  },
  {
   "cell_type": "markdown",
   "metadata": {},
   "source": [
    "### Example #2"
   ]
  },
  {
   "cell_type": "code",
   "execution_count": 39,
   "metadata": {},
   "outputs": [],
   "source": [
    "class Person:\n",
    "\n",
    "    def __init__(self, age, weight, height):\n",
    "        self.age = age\n",
    "        self.weight = weight\n",
    "        self.height = height\n",
    "        self.bmi = None\n",
    "\n",
    "    @property\n",
    "    def age(self):\n",
    "        return self.__age\n",
    "    \n",
    "    @age.setter\n",
    "    def age(self, age):\n",
    "        if age < 0:\n",
    "            raise ValueError(\"Age cannot be lower than 0\")\n",
    "        self.__age = age\n",
    "\n",
    "    @property\n",
    "    def weight(self):\n",
    "        return self.__weight\n",
    "    \n",
    "    @weight.setter\n",
    "    def weight(self, weight):\n",
    "        if weight < 0:\n",
    "            raise ValueError(\"Weight cannot be lower than 0\")\n",
    "        self.__weight = weight\n",
    "        \n",
    "    @property\n",
    "    def height(self):\n",
    "        return self.__height\n",
    "    \n",
    "    @height.setter\n",
    "    def height(self, height):\n",
    "        if height < 0:\n",
    "            raise ValueError(\"Height cannot be lower than 0\")\n",
    "        self.__height = height\n",
    "    \n",
    "    @property\n",
    "    def bmi(self):\n",
    "        return self.__bmi\n",
    "    \n",
    "    @bmi.setter\n",
    "    def bmi(self, null):\n",
    "        self.__bmi = self.weight / ( (self.height / 100) ** 2)"
   ]
  },
  {
   "cell_type": "code",
   "execution_count": 40,
   "metadata": {},
   "outputs": [
    {
     "data": {
      "text/plain": [
       "24.930747922437675"
      ]
     },
     "execution_count": 40,
     "metadata": {},
     "output_type": "execute_result"
    }
   ],
   "source": [
    "p = Person(21, 90, 190)\n",
    "p.bmi"
   ]
  },
  {
   "cell_type": "code",
   "execution_count": 41,
   "metadata": {},
   "outputs": [
    {
     "data": {
      "text/plain": [
       "24.930747922437675"
      ]
     },
     "execution_count": 41,
     "metadata": {},
     "output_type": "execute_result"
    }
   ],
   "source": [
    "p._Person__bmi"
   ]
  },
  {
   "cell_type": "markdown",
   "metadata": {},
   "source": [
    "[^1]: O processo de *\"name mangling\"* é um processo onde qualquer identificador com dois *underscore* de prefixo ou um *underscore* de sufixo é textualmente substituído por `_className__identifier`, onde `_className` é o nome da classe corrente (ao qual o identificador pertence)"
   ]
  },
  {
   "cell_type": "code",
   "execution_count": null,
   "metadata": {},
   "outputs": [],
   "source": []
  }
 ],
 "metadata": {
  "interpreter": {
   "hash": "690231b3045655aedc84dbaf464a15bfa594adb70ec303f046cfdd3018c94945"
  },
  "kernelspec": {
   "display_name": "Python 3",
   "language": "python",
   "name": "python3"
  },
  "language_info": {
   "codemirror_mode": {
    "name": "ipython",
    "version": 3
   },
   "file_extension": ".py",
   "mimetype": "text/x-python",
   "name": "python",
   "nbconvert_exporter": "python",
   "pygments_lexer": "ipython3",
   "version": "3.9.6"
  },
  "toc": {
   "base_numbering": 1,
   "nav_menu": {},
   "number_sections": true,
   "sideBar": true,
   "skip_h1_title": true,
   "title_cell": "Sumário",
   "title_sidebar": "Sumário",
   "toc_cell": true,
   "toc_position": {},
   "toc_section_display": true,
   "toc_window_display": false
  },
  "toc-autonumbering": false,
  "toc-showcode": false,
  "toc-showmarkdowntxt": false,
  "varInspector": {
   "cols": {
    "lenName": 16,
    "lenType": 16,
    "lenVar": 40
   },
   "kernels_config": {
    "python": {
     "delete_cmd_postfix": "",
     "delete_cmd_prefix": "del ",
     "library": "var_list.py",
     "varRefreshCmd": "print(var_dic_list())"
    },
    "r": {
     "delete_cmd_postfix": ") ",
     "delete_cmd_prefix": "rm(",
     "library": "var_list.r",
     "varRefreshCmd": "cat(var_dic_list()) "
    }
   },
   "types_to_exclude": [
    "module",
    "function",
    "builtin_function_or_method",
    "instance",
    "_Feature"
   ],
   "window_display": false
  }
 },
 "nbformat": 4,
 "nbformat_minor": 4
}
